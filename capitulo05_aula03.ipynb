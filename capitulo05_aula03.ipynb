{
  "nbformat": 4,
  "nbformat_minor": 0,
  "metadata": {
    "colab": {
      "provenance": [],
      "collapsed_sections": [],
      "include_colab_link": true
    },
    "kernelspec": {
      "name": "python3",
      "display_name": "Python 3"
    },
    "language_info": {
      "name": "python"
    }
  },
  "cells": [
    {
      "cell_type": "markdown",
      "metadata": {
        "id": "view-in-github",
        "colab_type": "text"
      },
      "source": [
        "<a href=\"https://colab.research.google.com/github/Andrehlb/DataScience_Embraer/blob/main/capitulo05_aula03.ipynb\" target=\"_parent\"><img src=\"https://colab.research.google.com/assets/colab-badge.svg\" alt=\"Open In Colab\"/></a>"
      ]
    },
    {
      "cell_type": "markdown",
      "source": [
        "# Capítulo 05 - Estruturas de Dados em Python"
      ],
      "metadata": {
        "id": "RA-qwX68ujNw"
      }
    },
    {
      "cell_type": "markdown",
      "source": [
        "## Aula 03 - Tuplas (`tuple`)\n",
        "- Criação de Tuplas e Acesso dos Elementos\n",
        "- Operações com Tuplas"
      ],
      "metadata": {
        "id": "sU7ZsvZ6w7Go"
      }
    },
    {
      "cell_type": "markdown",
      "source": [
        "As tuplas são estruturas de dados ordenadas do tipo tuple e são semelhantes às listas, com uma diferença fundamental: tuplas são imutáveis. \n",
        "\n",
        "Pelo conceito de imutabilidade, uma vez que criarmos uma tupla, não será mais possível adicionar, alterar ou remover seus elementos. \n",
        "\n",
        "Este tipo de estrutura é utilizado, frequentemente, para armazenar sequências de diferentes informações, porém, com a quantidade de elementos definidos e que não irá requerer alterações ao longo da execução do código."
      ],
      "metadata": {
        "id": "bHvBKjhhdGrB"
      }
    },
    {
      "cell_type": "markdown",
      "source": [
        "### Criação das Tuplas e Acesso dos Elementos"
      ],
      "metadata": {
        "id": "XihvuGG8uc7z"
      }
    },
    {
      "cell_type": "code",
      "source": [
        "#criação de uma tupla simples\n",
        "(1, 2, 3, 4)"
      ],
      "metadata": {
        "id": "n0bAmIehFv0Q",
        "colab": {
          "base_uri": "https://localhost:8080/"
        },
        "outputId": "37e9ce7e-1cb3-41a9-b95e-be59e1bfbf1f"
      },
      "execution_count": null,
      "outputs": [
        {
          "output_type": "execute_result",
          "data": {
            "text/plain": [
              "(1, 2, 3, 4)"
            ]
          },
          "metadata": {},
          "execution_count": 1
        }
      ]
    },
    {
      "cell_type": "code",
      "source": [
        "# Criação de uma tupla homogênea\n",
        "tupla = (0, 1, 2, 3, 4)\n",
        "print(tupla)"
      ],
      "metadata": {
        "id": "ug_6O-NFGLOO",
        "colab": {
          "base_uri": "https://localhost:8080/"
        },
        "outputId": "00517a98-2479-4cb6-88f4-95e65d788bea"
      },
      "execution_count": null,
      "outputs": [
        {
          "output_type": "stream",
          "name": "stdout",
          "text": [
            "(0, 1, 2, 3, 4)\n"
          ]
        }
      ]
    },
    {
      "cell_type": "code",
      "source": [
        "# Tupla heterogênea\n",
        "tupla2 = (2, 'a', 5.44, True, None)\n",
        "print(tupla2)"
      ],
      "metadata": {
        "id": "pToM_jatYBT6",
        "colab": {
          "base_uri": "https://localhost:8080/"
        },
        "outputId": "4cb69124-0d9b-41a7-e77c-09314d86611a"
      },
      "execution_count": null,
      "outputs": [
        {
          "output_type": "stream",
          "name": "stdout",
          "text": [
            "(2, 'a', 5.44, True, None)\n"
          ]
        }
      ]
    },
    {
      "cell_type": "code",
      "source": [
        "# Tupla vazia\n",
        "tupla3 = ()\n",
        "print(tupla3)"
      ],
      "metadata": {
        "id": "XJbuMWSIYDlO",
        "colab": {
          "base_uri": "https://localhost:8080/"
        },
        "outputId": "8268c60c-09e8-4827-bc04-9e57d94882ad"
      },
      "execution_count": null,
      "outputs": [
        {
          "output_type": "stream",
          "name": "stdout",
          "text": [
            "()\n"
          ]
        }
      ]
    },
    {
      "cell_type": "code",
      "source": [
        "# acesso por índices\n",
        "print(tupla[0])\n",
        "print(tupla[3])\n",
        "print(tupla[-1])"
      ],
      "metadata": {
        "id": "_DdLi16xYEUW",
        "colab": {
          "base_uri": "https://localhost:8080/"
        },
        "outputId": "d67486af-8aff-46ab-c114-ba5cc09c787f"
      },
      "execution_count": null,
      "outputs": [
        {
          "output_type": "stream",
          "name": "stdout",
          "text": [
            "0\n",
            "3\n",
            "4\n"
          ]
        }
      ]
    },
    {
      "cell_type": "code",
      "source": [
        "# acesso por slices\n",
        "print(tupla2[1:4])\n",
        "print(tupla2[-2:])\n",
        "print(tupla2[:])"
      ],
      "metadata": {
        "id": "qy9vHld7YE9I",
        "colab": {
          "base_uri": "https://localhost:8080/"
        },
        "outputId": "c6ec86e9-364b-4507-e08f-816d3dc0d74f"
      },
      "execution_count": null,
      "outputs": [
        {
          "output_type": "stream",
          "name": "stdout",
          "text": [
            "('a', 5.44, True)\n",
            "(True, None)\n",
            "(2, 'a', 5.44, True, None)\n"
          ]
        }
      ]
    },
    {
      "cell_type": "markdown",
      "source": [
        "### Operações com Tuplas"
      ],
      "metadata": {
        "id": "F0u_v-_ecYsi"
      }
    },
    {
      "cell_type": "code",
      "source": [
        "t1 = (30, 10, 20)\n",
        "t2 = (2, 'a', 5.44, True)\n",
        "\n",
        "# Operações de concatenação (+), repetição (*) e filiação (in)\n",
        "print(t1 + t2)\n",
        "print(t1 * 3)\n",
        "print(10 in t1)"
      ],
      "metadata": {
        "id": "cvVvgsKJYMle",
        "colab": {
          "base_uri": "https://localhost:8080/"
        },
        "outputId": "987ce450-8590-424a-c65c-7a24575c356f"
      },
      "execution_count": null,
      "outputs": [
        {
          "output_type": "stream",
          "name": "stdout",
          "text": [
            "(30, 10, 20, 2, 'a', 5.44, True)\n",
            "(30, 10, 20, 30, 10, 20, 30, 10, 20)\n",
            "True\n"
          ]
        }
      ]
    },
    {
      "cell_type": "code",
      "source": [
        "t1 = (30, 10, 20)\n",
        "t2 = (2, 'a', 5.44, True)\n",
        "\n",
        "# Operações de concatenação (+), repetição (*) e filiação (in)\n",
        "print(t1 + t2)\n",
        "print(t1 * 3)\n",
        "print(10 not in t1)"
      ],
      "metadata": {
        "colab": {
          "base_uri": "https://localhost:8080/"
        },
        "outputId": "a45c9d9c-ed2d-4f49-a25f-8bc9a9b4b937",
        "id": "4oybE1MucbuE"
      },
      "execution_count": null,
      "outputs": [
        {
          "output_type": "stream",
          "name": "stdout",
          "text": [
            "(30, 10, 20, 2, 'a', 5.44, True)\n",
            "(30, 10, 20, 30, 10, 20, 30, 10, 20)\n",
            "False\n"
          ]
        }
      ]
    },
    {
      "cell_type": "code",
      "source": [
        "# Funções úteis\n",
        "print(len(t2)) # len: retorna a quantidade de elementos da tupla\n",
        "print(min(t1)) # min: retorna o menor elemento da tupla\n",
        "print(max(t1)) # max: retorna o maior elemento da tupla\n",
        "print(sum(t1)) # sum: retorna a soma dos elementos da tupla"
      ],
      "metadata": {
        "id": "-v4befsRYk-8",
        "colab": {
          "base_uri": "https://localhost:8080/"
        },
        "outputId": "bd178076-c85f-4c40-f70d-a0f1b925db02"
      },
      "execution_count": null,
      "outputs": [
        {
          "output_type": "stream",
          "name": "stdout",
          "text": [
            "4\n",
            "10\n",
            "30\n",
            "60\n"
          ]
        }
      ]
    },
    {
      "cell_type": "code",
      "source": [
        "# Funções úteis\n",
        "print(len(t2)) # len: retorna a quantidade de elementos da tupla\n",
        "print(min(t1)) # min: retorna o menor elemento da tupla\n",
        "print(max(t1)) # max: retorna o maior elemento da tupla\n",
        "print(sum(t2)) # sum: retorna a soma dos elementos da tupla"
      ],
      "metadata": {
        "colab": {
          "base_uri": "https://localhost:8080/",
          "height": 264
        },
        "outputId": "2f880136-a7c6-49ae-c55e-c88e662241cf",
        "id": "QmI9UwJ4c-I1"
      },
      "execution_count": null,
      "outputs": [
        {
          "output_type": "stream",
          "name": "stdout",
          "text": [
            "4\n",
            "10\n",
            "30\n"
          ]
        },
        {
          "output_type": "error",
          "ename": "TypeError",
          "evalue": "ignored",
          "traceback": [
            "\u001b[0;31m---------------------------------------------------------------------------\u001b[0m",
            "\u001b[0;31mTypeError\u001b[0m                                 Traceback (most recent call last)",
            "\u001b[0;32m<ipython-input-10-67cfb525dce6>\u001b[0m in \u001b[0;36m<module>\u001b[0;34m\u001b[0m\n\u001b[1;32m      3\u001b[0m \u001b[0mprint\u001b[0m\u001b[0;34m(\u001b[0m\u001b[0mmin\u001b[0m\u001b[0;34m(\u001b[0m\u001b[0mt1\u001b[0m\u001b[0;34m)\u001b[0m\u001b[0;34m)\u001b[0m \u001b[0;31m# min: retorna o menor elemento da tupla\u001b[0m\u001b[0;34m\u001b[0m\u001b[0;34m\u001b[0m\u001b[0m\n\u001b[1;32m      4\u001b[0m \u001b[0mprint\u001b[0m\u001b[0;34m(\u001b[0m\u001b[0mmax\u001b[0m\u001b[0;34m(\u001b[0m\u001b[0mt1\u001b[0m\u001b[0;34m)\u001b[0m\u001b[0;34m)\u001b[0m \u001b[0;31m# max: retorna o maior elemento da tupla\u001b[0m\u001b[0;34m\u001b[0m\u001b[0;34m\u001b[0m\u001b[0m\n\u001b[0;32m----> 5\u001b[0;31m \u001b[0mprint\u001b[0m\u001b[0;34m(\u001b[0m\u001b[0msum\u001b[0m\u001b[0;34m(\u001b[0m\u001b[0mt2\u001b[0m\u001b[0;34m)\u001b[0m\u001b[0;34m)\u001b[0m \u001b[0;31m# sum: retorna a soma dos elementos da tupla\u001b[0m\u001b[0;34m\u001b[0m\u001b[0;34m\u001b[0m\u001b[0m\n\u001b[0m",
            "\u001b[0;31mTypeError\u001b[0m: unsupported operand type(s) for +: 'int' and 'str'"
          ]
        }
      ]
    },
    {
      "cell_type": "code",
      "source": [
        "t1"
      ],
      "metadata": {
        "colab": {
          "base_uri": "https://localhost:8080/"
        },
        "id": "WGoT4ZK3ka2U",
        "outputId": "f3a0af1a-3fcd-4759-d7fb-80b1b2808f93"
      },
      "execution_count": null,
      "outputs": [
        {
          "output_type": "execute_result",
          "data": {
            "text/plain": [
              "(30, 10, 20)"
            ]
          },
          "metadata": {},
          "execution_count": 11
        }
      ]
    },
    {
      "cell_type": "code",
      "source": [
        "# Métodos que retornam valores\n",
        "print(t1.index(20)) # index: retorna o índice da primeira ocorrência do elemento\n",
        "print(t2.count('a')) # count: conta as ocorrências do elemento"
      ],
      "metadata": {
        "id": "nrTMZn3ZYmHJ",
        "colab": {
          "base_uri": "https://localhost:8080/"
        },
        "outputId": "689ce280-511c-4dab-b81e-fbaf7fd2e3ae"
      },
      "execution_count": null,
      "outputs": [
        {
          "output_type": "stream",
          "name": "stdout",
          "text": [
            "2\n",
            "1\n"
          ]
        }
      ]
    },
    {
      "cell_type": "code",
      "source": [
        "# Tuplas são imutáveis, e por este motivo seus valores não podem ser alterados\n",
        "t1 = (1, 2, 3)\n",
        "t1[0] = 4"
      ],
      "metadata": {
        "id": "af187P0VYPgf",
        "colab": {
          "base_uri": "https://localhost:8080/",
          "height": 209
        },
        "outputId": "a46b0aea-d238-420d-fff1-5d74c62f13b9"
      },
      "execution_count": null,
      "outputs": [
        {
          "output_type": "error",
          "ename": "TypeError",
          "evalue": "ignored",
          "traceback": [
            "\u001b[0;31m---------------------------------------------------------------------------\u001b[0m",
            "\u001b[0;31mTypeError\u001b[0m                                 Traceback (most recent call last)",
            "\u001b[0;32m<ipython-input-13-f44c314f9c27>\u001b[0m in \u001b[0;36m<module>\u001b[0;34m\u001b[0m\n\u001b[1;32m      1\u001b[0m \u001b[0;31m# Tuplas são imutáveis, e por este motivo seus valores não podem ser alterados\u001b[0m\u001b[0;34m\u001b[0m\u001b[0;34m\u001b[0m\u001b[0;34m\u001b[0m\u001b[0m\n\u001b[1;32m      2\u001b[0m \u001b[0mt1\u001b[0m \u001b[0;34m=\u001b[0m \u001b[0;34m(\u001b[0m\u001b[0;36m1\u001b[0m\u001b[0;34m,\u001b[0m \u001b[0;36m2\u001b[0m\u001b[0;34m,\u001b[0m \u001b[0;36m3\u001b[0m\u001b[0;34m)\u001b[0m\u001b[0;34m\u001b[0m\u001b[0;34m\u001b[0m\u001b[0m\n\u001b[0;32m----> 3\u001b[0;31m \u001b[0mt1\u001b[0m\u001b[0;34m[\u001b[0m\u001b[0;36m0\u001b[0m\u001b[0;34m]\u001b[0m \u001b[0;34m=\u001b[0m \u001b[0;36m4\u001b[0m\u001b[0;34m\u001b[0m\u001b[0;34m\u001b[0m\u001b[0m\n\u001b[0m",
            "\u001b[0;31mTypeError\u001b[0m: 'tuple' object does not support item assignment"
          ]
        }
      ]
    },
    {
      "cell_type": "code",
      "source": [],
      "metadata": {
        "id": "PVX0xbZBknpg"
      },
      "execution_count": null,
      "outputs": []
    }
  ]
}
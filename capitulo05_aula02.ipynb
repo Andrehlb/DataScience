{
  "nbformat": 4,
  "nbformat_minor": 0,
  "metadata": {
    "colab": {
      "provenance": [],
      "collapsed_sections": [],
      "include_colab_link": true
    },
    "kernelspec": {
      "name": "python3",
      "display_name": "Python 3"
    },
    "language_info": {
      "name": "python"
    }
  },
  "cells": [
    {
      "cell_type": "markdown",
      "metadata": {
        "id": "view-in-github",
        "colab_type": "text"
      },
      "source": [
        "<a href=\"https://colab.research.google.com/github/Andrehlb/DataScience_Embraer/blob/main/capitulo05_aula02.ipynb\" target=\"_parent\"><img src=\"https://colab.research.google.com/assets/colab-badge.svg\" alt=\"Open In Colab\"/></a>"
      ]
    },
    {
      "cell_type": "markdown",
      "source": [
        "# Capítulo 05 - Estruturas de Dados em Python"
      ],
      "metadata": {
        "id": "RA-qwX68ujNw"
      }
    },
    {
      "cell_type": "markdown",
      "source": [
        "## Aula 02 - Listas (`list`)\n",
        "- Criação de Listas e Acesso dos Elementos\n",
        "- Alteração da Lista\n",
        "- Funções, Operadores e Metódos"
      ],
      "metadata": {
        "id": "sU7ZsvZ6w7Go"
      }
    },
    {
      "cell_type": "markdown",
      "source": [
        "---\n",
        "Em Python, uma lista (list) é uma sequência ordenada de valores, que são identificados por um índice. Estes valores, que compõem uma lista, são chamados de elementos ou itens. \n",
        "\n",
        "Listas são estruturas de dados muito similares às strings, que por sua vez são sequência de caracteres, apenas. A diferença é que os elementos de uma lista podem ser de qualquer tipo, ou seja, podem ser homogêneos (todos os valores do mesmo tipo) e heterogêneos (valores com tipos distintos).\n",
        "\n",
        "Diferentemente das strings, uma lista é também uma sequência mutável e dinâmica. Uma vez que sejam criadas, é possível:\n",
        "- Alterar o valor de um ou mais elementos;\n",
        "- Os elementos podem ser adicionados, removidos ou substituídos;\n",
        "- A ordem dos elementos pode ser alterada.\n",
        "\n",
        "---"
      ],
      "metadata": {
        "id": "3kKjNDxuF_cc"
      }
    },
    {
      "cell_type": "markdown",
      "source": [
        "### Criação das Listas e Acesso dos Elementos"
      ],
      "metadata": {
        "id": "XihvuGG8uc7z"
      }
    },
    {
      "cell_type": "code",
      "source": [
        "#criando uma lista simples\n",
        "[1,2,3,4]"
      ],
      "metadata": {
        "colab": {
          "base_uri": "https://localhost:8080/"
        },
        "id": "SlDsI3FMX-1N",
        "outputId": "202fa9ae-4afa-4e7b-a69d-bbd6d1afcd90"
      },
      "execution_count": null,
      "outputs": [
        {
          "output_type": "execute_result",
          "data": {
            "text/plain": [
              "[1, 2, 3, 4]"
            ]
          },
          "metadata": {},
          "execution_count": 1
        }
      ]
    },
    {
      "cell_type": "code",
      "source": [
        "#declarando a lista em uma variável\n",
        "lista = [1,2,3,4]\n",
        "#nada aparece porque não foi dado o comando de impressão"
      ],
      "metadata": {
        "id": "Iah-VkHNYdNb"
      },
      "execution_count": null,
      "outputs": []
    },
    {
      "cell_type": "code",
      "source": [
        "#declarando a lista em uma variável\n",
        "lista = [1,2,3,4]\n",
        "print(lista)"
      ],
      "metadata": {
        "colab": {
          "base_uri": "https://localhost:8080/"
        },
        "id": "Jo231lURY0Pk",
        "outputId": "dfb4f303-3e16-48e3-991c-adaab0cac611"
      },
      "execution_count": null,
      "outputs": [
        {
          "output_type": "stream",
          "name": "stdout",
          "text": [
            "[1, 2, 3, 4]\n"
          ]
        }
      ]
    },
    {
      "cell_type": "code",
      "source": [
        "lista1 = [1, 2, 3, 4]\n",
        "lista2 = [4, 3, 2, 1]\n",
        "lista3 = [1, 2, 3, 4]\n",
        "print(lista1)\n",
        "print(lista2)\n",
        "print(lista3)"
      ],
      "metadata": {
        "id": "n0bAmIehFv0Q",
        "colab": {
          "base_uri": "https://localhost:8080/"
        },
        "outputId": "2ddb7fc2-9e73-469e-b597-7ac591dac436"
      },
      "execution_count": null,
      "outputs": [
        {
          "output_type": "stream",
          "name": "stdout",
          "text": [
            "[1, 2, 3, 4]\n",
            "[4, 3, 2, 1]\n",
            "[1, 2, 3, 4]\n"
          ]
        }
      ]
    },
    {
      "cell_type": "code",
      "source": [
        "lista1 = [1, 2, 3, 4]\n",
        "lista2 = [4, 3, 2, 1]\n",
        "lista3 = [1, 2, 3, 4]\n",
        "print(lista1,',', lista2,',', lista3)\n"
      ],
      "metadata": {
        "colab": {
          "base_uri": "https://localhost:8080/"
        },
        "outputId": "424f0441-02f8-4b09-d25f-9a13202a1d58",
        "id": "UYGX7g4l0iHc"
      },
      "execution_count": 6,
      "outputs": [
        {
          "output_type": "stream",
          "name": "stdout",
          "text": [
            "[1, 2, 3, 4] , [4, 3, 2, 1] , [1, 2, 3, 4]\n"
          ]
        }
      ]
    },
    {
      "cell_type": "code",
      "source": [
        "lista1 == lista3 and lista1 != lista2\n"
      ],
      "metadata": {
        "colab": {
          "base_uri": "https://localhost:8080/"
        },
        "id": "6DYqrSlpeI3F",
        "outputId": "3452f6e6-dba7-4c69-c507-2bb180336b92"
      },
      "execution_count": 12,
      "outputs": [
        {
          "output_type": "execute_result",
          "data": {
            "text/plain": [
              "True"
            ]
          },
          "metadata": {},
          "execution_count": 12
        }
      ]
    },
    {
      "cell_type": "code",
      "source": [
        "lista1 == lista2"
      ],
      "metadata": {
        "colab": {
          "base_uri": "https://localhost:8080/"
        },
        "id": "cMnjNGWe1qF6",
        "outputId": "78ee4b26-3ad7-4e0f-98f9-d9cbf37a1752"
      },
      "execution_count": 13,
      "outputs": [
        {
          "output_type": "execute_result",
          "data": {
            "text/plain": [
              "False"
            ]
          },
          "metadata": {},
          "execution_count": 13
        }
      ]
    },
    {
      "cell_type": "code",
      "source": [
        "# Lista com valores heterogêneos\n",
        "[2, 'a', 5.44, True]"
      ],
      "metadata": {
        "id": "ug_6O-NFGLOO",
        "colab": {
          "base_uri": "https://localhost:8080/"
        },
        "outputId": "582adf57-c66f-4bc9-eb03-d2a397b91e3e"
      },
      "execution_count": 1,
      "outputs": [
        {
          "output_type": "execute_result",
          "data": {
            "text/plain": [
              "[2, 'a', 5.44, True]"
            ]
          },
          "metadata": {},
          "execution_count": 1
        }
      ]
    },
    {
      "cell_type": "code",
      "source": [
        "# Lista com elementos nulos\n",
        "['um', 'dois', None, 4, None, None]"
      ],
      "metadata": {
        "id": "PyGFaAqdGZpP",
        "colab": {
          "base_uri": "https://localhost:8080/"
        },
        "outputId": "a7093a9c-58d8-4f1f-8f71-4c774e1d1ac3"
      },
      "execution_count": null,
      "outputs": [
        {
          "output_type": "execute_result",
          "data": {
            "text/plain": [
              "['um', 'dois', None, 4, None, None]"
            ]
          },
          "metadata": {},
          "execution_count": 9
        }
      ]
    },
    {
      "cell_type": "code",
      "source": [
        "# Listas com outras listas dentro (listas aninhadas)\n",
        "l = [0, 1]\n",
        "[l, 'dois', 'três', [4, 5, l], 'seis']"
      ],
      "metadata": {
        "id": "wN_6bbl3GbXP",
        "colab": {
          "base_uri": "https://localhost:8080/"
        },
        "outputId": "804a4b0e-af1a-4722-8384-9d0e77619a2f"
      },
      "execution_count": null,
      "outputs": [
        {
          "output_type": "execute_result",
          "data": {
            "text/plain": [
              "[[0, 1], 'dois', 'três', [4, 5, [0, 1]], 'seis']"
            ]
          },
          "metadata": {},
          "execution_count": 11
        }
      ]
    },
    {
      "cell_type": "code",
      "source": [
        "# Lista vazia\n",
        "l = []\n",
        "l"
      ],
      "metadata": {
        "id": "QjxZe88WGdJT",
        "colab": {
          "base_uri": "https://localhost:8080/"
        },
        "outputId": "460adfa1-cfef-426a-d0b3-46c79b5dc296"
      },
      "execution_count": null,
      "outputs": [
        {
          "output_type": "execute_result",
          "data": {
            "text/plain": [
              "[]"
            ]
          },
          "metadata": {},
          "execution_count": 12
        }
      ]
    },
    {
      "cell_type": "code",
      "source": [
        "lista = [2, 'a', 5.44, True, None, 'casa']\n",
        "# acesso por índices\n",
        "print(lista[0])\n",
        "print(lista[3])\n",
        "print(lista[-1])"
      ],
      "metadata": {
        "id": "XNhasQokGWmu",
        "colab": {
          "base_uri": "https://localhost:8080/"
        },
        "outputId": "48a15b7c-88de-4f0f-e682-e2bfb2a663b4"
      },
      "execution_count": null,
      "outputs": [
        {
          "output_type": "stream",
          "name": "stdout",
          "text": [
            "2\n",
            "True\n",
            "casa\n"
          ]
        }
      ]
    },
    {
      "cell_type": "code",
      "source": [
        "# acesso por slices\n",
        "print(lista[1:5])\n",
        "print(lista[-2:])\n",
        "print(lista[:])"
      ],
      "metadata": {
        "colab": {
          "base_uri": "https://localhost:8080/"
        },
        "id": "4vzyvLEEfN0P",
        "outputId": "6df3221b-7627-4609-c660-785b10c46f78"
      },
      "execution_count": null,
      "outputs": [
        {
          "output_type": "stream",
          "name": "stdout",
          "text": [
            "['a', 5.44, True, None]\n",
            "[None, 'casa']\n",
            "[2, 'a', 5.44, True, None, 'casa']\n"
          ]
        }
      ]
    },
    {
      "cell_type": "markdown",
      "source": [
        "**Solução do problema de encontrar a maior idade utilizando listas**"
      ],
      "metadata": {
        "id": "UAdVDYrIGoBj"
      }
    },
    {
      "cell_type": "code",
      "source": [
        "# cria uma lista para armazenar as 3 idades\n",
        "# idades = [27, 49, 12]\n",
        "\n",
        "# cria uma lista para armazenar as 10 idades\n",
        "idades = [27, 49, 12, 67, 21, 32, 18, 45, 84, 53, 22, 56, 80, 35, 18, 27]\n",
        "\n",
        "# inicialmente assume que a primeira idade é a maior\n",
        "maior_idade = idades[0]\n",
        "\n",
        "# percorre a lista verificando a maior idade\n",
        "for idade in idades:\n",
        "    if idade > maior_idade:\n",
        "         maior_idade = idade\n",
        "\n",
        "# exibe a maior idade encontrada\n",
        "print('Maior idade:', maior_idade)"
      ],
      "metadata": {
        "id": "cPJgnrZyGmr0",
        "colab": {
          "base_uri": "https://localhost:8080/"
        },
        "outputId": "37c51947-22ec-4196-d00f-d0097417ba4c"
      },
      "execution_count": null,
      "outputs": [
        {
          "output_type": "stream",
          "name": "stdout",
          "text": [
            "Maior idade: 93\n"
          ]
        }
      ]
    },
    {
      "cell_type": "markdown",
      "source": [
        "### Alteração da lista"
      ],
      "metadata": {
        "id": "xcRUpDWKxIhs"
      }
    },
    {
      "cell_type": "code",
      "source": [
        "# Criar uma lista inicial, com elementos heterogêneos\n",
        "lista = [2, 'a', 'b', 'c', 5.44, True]\n",
        "print(lista)"
      ],
      "metadata": {
        "id": "obFx2fR1Fwb4",
        "colab": {
          "base_uri": "https://localhost:8080/"
        },
        "outputId": "ad4882a6-5ce7-4656-c83d-74ad91fa8662"
      },
      "execution_count": null,
      "outputs": [
        {
          "output_type": "stream",
          "name": "stdout",
          "text": [
            "[2, 'a', 'b', 'c', 5.44, True]\n"
          ]
        }
      ]
    },
    {
      "cell_type": "code",
      "source": [
        "# Adiciona um novo elemento na lista: Método append\n",
        "lista.append(999)\n",
        "print(lista)"
      ],
      "metadata": {
        "id": "f4p-JqENG-e7",
        "colab": {
          "base_uri": "https://localhost:8080/"
        },
        "outputId": "6695b2c9-9b88-49da-b9f8-8179e7a78c85"
      },
      "execution_count": null,
      "outputs": [
        {
          "output_type": "stream",
          "name": "stdout",
          "text": [
            "[2, 'a', 'b', 'c', 5.44, True, 999, 999, 999, None, 10.5, False, 999]\n"
          ]
        }
      ]
    },
    {
      "cell_type": "code",
      "source": [
        "lista.append(None)\n",
        "lista.append(21/2)\n",
        "lista.append(2 == 5/2)\n",
        "lista"
      ],
      "metadata": {
        "colab": {
          "base_uri": "https://localhost:8080/"
        },
        "id": "jwapA983guYQ",
        "outputId": "f495ccbb-e9a7-43c1-859a-53a700fda3d5"
      },
      "execution_count": null,
      "outputs": [
        {
          "output_type": "execute_result",
          "data": {
            "text/plain": [
              "[2, 'a', 'b', 'c', 5.44, True, 999, 999, 999, None, 10.5, False]"
            ]
          },
          "metadata": {},
          "execution_count": 24
        }
      ]
    },
    {
      "cell_type": "code",
      "source": [
        "# Altera o valor do quarto e o do último elemento\n",
        "lista[3] = 'a'\n",
        "lista[-1] = lista[-1] + 1\n",
        "print(lista)"
      ],
      "metadata": {
        "id": "Tt4Zf8-yHATx",
        "colab": {
          "base_uri": "https://localhost:8080/"
        },
        "outputId": "0ff5669b-a79a-4c6f-81cf-be43ef608477"
      },
      "execution_count": null,
      "outputs": [
        {
          "output_type": "stream",
          "name": "stdout",
          "text": [
            "[2, 'a', 'b', 'a', 5.44, True, 999, 999, 999, None, 10.5, False, 1000]\n"
          ]
        }
      ]
    },
    {
      "cell_type": "code",
      "source": [
        "# Remove a primeira ocorrência do elemento 'a'\n",
        "lista.remove(999)\n",
        "print(lista)"
      ],
      "metadata": {
        "id": "tBpvjTlkHBFl",
        "colab": {
          "base_uri": "https://localhost:8080/"
        },
        "outputId": "b0747083-92d8-4781-f097-a5bc97ca9d84"
      },
      "execution_count": null,
      "outputs": [
        {
          "output_type": "stream",
          "name": "stdout",
          "text": [
            "[2, 'b', 5.44, True, 999, 999, None, 10.5, False, 1000]\n"
          ]
        }
      ]
    },
    {
      "cell_type": "markdown",
      "source": [
        "### Funções, Operadores e Metódos"
      ],
      "metadata": {
        "id": "EVRG8oqAHIyb"
      }
    },
    {
      "cell_type": "code",
      "source": [
        "l1 = [30, 10, 20]\n",
        "l2 = [2, 'a', 5.44, True]\n",
        "\n",
        "# Operações de concatenação (+), repetição (*) e filiação (in)\n",
        "print(l1 + l2)\n",
        "print(l1 * 3)\n",
        "print(99 in l1)"
      ],
      "metadata": {
        "id": "o5BxhVdzHhqK",
        "colab": {
          "base_uri": "https://localhost:8080/"
        },
        "outputId": "59a0cde4-e2c9-4c35-cdbc-890f9c79e2ca"
      },
      "execution_count": null,
      "outputs": [
        {
          "output_type": "stream",
          "name": "stdout",
          "text": [
            "[30, 10, 20, 2, 'a', 5.44, True]\n",
            "[30, 10, 20, 30, 10, 20, 30, 10, 20]\n",
            "False\n"
          ]
        }
      ]
    },
    {
      "cell_type": "code",
      "source": [
        "# Funções úteis\n",
        "print(len(l2)) # len: retorna a quantidade de elementos da lista.\n",
        "print(sum(l1)) # sum: retorna a soma dos elementos de uma lista.\n",
        "print(max(l1)) # max: retorna o maior elemento da lista (!!!!)"
      ],
      "metadata": {
        "colab": {
          "base_uri": "https://localhost:8080/"
        },
        "id": "nyqh6FFvhko-",
        "outputId": "f450d42d-0065-4d74-d7f6-dddc005c5d4c"
      },
      "execution_count": null,
      "outputs": [
        {
          "output_type": "stream",
          "name": "stdout",
          "text": [
            "4\n",
            "60\n",
            "30\n"
          ]
        }
      ]
    },
    {
      "cell_type": "code",
      "source": [
        "# Métodos que alteram os valores internos da lista\n",
        "l2.reverse() # reverse: inverte a ordem dos elementos\n",
        "print(l2)\n",
        "l1.extend([10, 20, 30, 40, 10]) # extend: adiciona elementos de outra sequência\n",
        "print(l1)\n",
        "l1.sort() # sort: ordena os valores da lista\n",
        "print(l1)\n",
        "l2.insert(2, 'novo valor') # insert: adiciona um elemento em um índice especifico\n",
        "print(l2)\n",
        "l2.pop() # pop: remove o último elemento da lista\n",
        "print(l2)\n",
        "l2.clear() # clear: limpa a lista, removendo todos os elementos\n",
        "print(l2)"
      ],
      "metadata": {
        "colab": {
          "base_uri": "https://localhost:8080/"
        },
        "id": "n2rwKh8Ihlc3",
        "outputId": "f56890d9-6e1c-49b9-ffb2-7e5c2d52f511"
      },
      "execution_count": null,
      "outputs": [
        {
          "output_type": "stream",
          "name": "stdout",
          "text": [
            "[True, 5.44, 'a', 2]\n",
            "[30, 10, 20, 10, 20, 30, 40, 10]\n",
            "[10, 10, 10, 20, 20, 30, 30, 40]\n",
            "[True, 5.44, 'novo valor', 'a', 2]\n",
            "[True, 5.44, 'novo valor', 'a']\n",
            "[]\n"
          ]
        }
      ]
    },
    {
      "cell_type": "code",
      "source": [
        "l1"
      ],
      "metadata": {
        "colab": {
          "base_uri": "https://localhost:8080/"
        },
        "id": "7rmROLImiyLt",
        "outputId": "e9aa843f-6cf0-4c10-8bc7-208076915535"
      },
      "execution_count": null,
      "outputs": [
        {
          "output_type": "execute_result",
          "data": {
            "text/plain": [
              "[10, 10, 10, 20, 20, 30, 30, 40]"
            ]
          },
          "metadata": {},
          "execution_count": 35
        }
      ]
    },
    {
      "cell_type": "code",
      "source": [
        "# Métodos que retornam valores e não alteram a lista\n",
        "print(l1.index(20)) # index: retorna o índice da primeira ocorrência do elemento\n",
        "print(l1.count(30)) # count: conta as ocorrências do elemento"
      ],
      "metadata": {
        "colab": {
          "base_uri": "https://localhost:8080/"
        },
        "id": "J9gnVHIWhmJK",
        "outputId": "093d04ba-9d17-4eb8-ffbd-361e5bb78dfd"
      },
      "execution_count": null,
      "outputs": [
        {
          "output_type": "stream",
          "name": "stdout",
          "text": [
            "3\n",
            "2\n"
          ]
        }
      ]
    },
    {
      "cell_type": "code",
      "source": [
        "l2 = [2, 'a', 5.44, True]\n",
        "print(max(l2))"
      ],
      "metadata": {
        "id": "dxhig1LWHrlF",
        "colab": {
          "base_uri": "https://localhost:8080/",
          "height": 183
        },
        "outputId": "b3d0b6e4-80a5-4d04-9868-f6f240a75cf8"
      },
      "execution_count": null,
      "outputs": [
        {
          "output_type": "error",
          "ename": "TypeError",
          "evalue": "ignored",
          "traceback": [
            "\u001b[0;31m---------------------------------------------------------------------------\u001b[0m",
            "\u001b[0;31mTypeError\u001b[0m                                 Traceback (most recent call last)",
            "\u001b[0;32m<ipython-input-38-3f5555a227f8>\u001b[0m in \u001b[0;36m<module>\u001b[0;34m()\u001b[0m\n\u001b[1;32m      1\u001b[0m \u001b[0ml2\u001b[0m \u001b[0;34m=\u001b[0m \u001b[0;34m[\u001b[0m\u001b[0;36m2\u001b[0m\u001b[0;34m,\u001b[0m \u001b[0;34m'a'\u001b[0m\u001b[0;34m,\u001b[0m \u001b[0;36m5.44\u001b[0m\u001b[0;34m,\u001b[0m \u001b[0;32mTrue\u001b[0m\u001b[0;34m]\u001b[0m\u001b[0;34m\u001b[0m\u001b[0;34m\u001b[0m\u001b[0m\n\u001b[0;32m----> 2\u001b[0;31m \u001b[0mprint\u001b[0m\u001b[0;34m(\u001b[0m\u001b[0mmax\u001b[0m\u001b[0;34m(\u001b[0m\u001b[0ml2\u001b[0m\u001b[0;34m)\u001b[0m\u001b[0;34m)\u001b[0m\u001b[0;34m\u001b[0m\u001b[0;34m\u001b[0m\u001b[0m\n\u001b[0m",
            "\u001b[0;31mTypeError\u001b[0m: '>' not supported between instances of 'str' and 'int'"
          ]
        }
      ]
    },
    {
      "cell_type": "code",
      "source": [
        "idades = [27, 49, 12, 67, 21, 32, 18, 45, 84, 53, 22, 56, 80, 35, 18]\n",
        "print('Maior idade:', max(idades))"
      ],
      "metadata": {
        "id": "qWfcbv5KHsrX",
        "colab": {
          "base_uri": "https://localhost:8080/"
        },
        "outputId": "814f4520-d0fb-4612-fe05-32ed17454303"
      },
      "execution_count": null,
      "outputs": [
        {
          "output_type": "stream",
          "name": "stdout",
          "text": [
            "Maior idade: 84\n"
          ]
        }
      ]
    },
    {
      "cell_type": "code",
      "source": [],
      "metadata": {
        "id": "E_lokyDdjMc2"
      },
      "execution_count": null,
      "outputs": []
    }
  ]
}
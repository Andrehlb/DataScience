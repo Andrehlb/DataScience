{
  "nbformat": 4,
  "nbformat_minor": 0,
  "metadata": {
    "colab": {
      "provenance": [],
      "authorship_tag": "ABX9TyMPAK4PLixxmAgnoLR4gOyj",
      "include_colab_link": true
    },
    "kernelspec": {
      "name": "python3",
      "display_name": "Python 3"
    },
    "language_info": {
      "name": "python"
    }
  },
  "cells": [
    {
      "cell_type": "markdown",
      "metadata": {
        "id": "view-in-github",
        "colab_type": "text"
      },
      "source": [
        "<a href=\"https://colab.research.google.com/github/Andrehlb/DataScience_Embraer/blob/main/reducaoCustoPonteiraDebris.ipynb\" target=\"_parent\"><img src=\"https://colab.research.google.com/assets/colab-badge.svg\" alt=\"Open In Colab\"/></a>"
      ]
    },
    {
      "cell_type": "code",
      "source": [
        "import pandas as pd\n",
        "\n",
        "# Cria a tabela\n",
        "df = pd.DataFrame()\n",
        "\n",
        "# Adiciona as colunas \"Caixas de ponteiras\", \"Tempo\", \"Gasto sem mudança\", \"Economia mensal\" e \"Economia anual\" à tabela\n",
        "df = df.assign(Caixas_de_ponteiras=[2, 4])\n",
        "df = df.assign(Tempo=[\"Semanal\", \"Semanal\"])\n",
        "df = df.assign(Gasto_sem_mudanca=[\"R$ 3.000,00\", \"R$ 3.000,00\"])\n",
        "df = df.assign(Economia_mensal=[\"R$ 940,00\", \"R$ 11.280,00\"])\n",
        "df = df.assign(Economia_anual=[\"R$ 11.280,00\", \"R$ 134.360,00\"])\n",
        "\n",
        "# Aplica o formato de moeda às colunas \"Gasto sem mudança\", \"Economia mensal\" e \"Economia anual\"\n",
        "df = df.style.format({\"Gasto_sem_mudanca\": \"$ {:,.2f}\", \"Economia_mensal\": \"$ {:,.2f}\", \"Economia_anual\": \"$ {:,.2f}\"})\n",
        "\n",
        "# Aplica um gradiente de cor à coluna \"Economia anual\"\n",
        "df = df.background_gradient(cmap=\"Reds\", subset=\"Economia_anual\")\n",
        "\n",
        "# Altera a fonte e o tamanho do texto da tabela\n",
        "df = df.set_table_styles([{\"selector\": \"table\", \"props\": [(\"font-size\", \"12pt\"), (\"font-family\", \"Arial\")]}])\n"
      ],
      "metadata": {
        "id": "jsa1W6K0A4wA"
      },
      "execution_count": 6,
      "outputs": []
    },
    {
      "cell_type": "code",
      "source": [
        "import pandas as pd\n",
        "\n",
        "# Cria a tabela\n",
        "df = pd.DataFrame()\n",
        "\n",
        "# Adiciona as colunas \"Caixas de ponteiras\", \"Tempo\", \"Gasto sem mudança\", \"Economia mensal\" e \"Economia anual\" à tabela\n",
        "df = df.assign(Caixas_de_ponteiras=[2, 4])\n",
        "df = df.assign(Tempo=[\"Semanal\", \"Semanal\"])\n",
        "df = df.assign(Gasto_sem_mudanca=[\"R$ 3.000,00\", \"R$ 3.000,00\"])\n",
        "df = df.assign(Economia_mensal=[\"R$ 940,00\", \"R$ 11.280,00\"])\n",
        "df = df.assign(Economia_anual=[\"R$ 11.280,00\", \"R$ 134.360,00\"])\n",
        "\n",
        "# Aplica o formato de moeda às colunas \"Gasto sem mudança\", \"Economia mensal\" e \"Economia anual\"\n",
        "df = df.style.format({\"Gasto_sem_mudanca\": \"$ {:,.2f}\", \"Economia_mensal\": \"$ {:,.2f}\", \"Economia_anual\": \"$ {:,.2f}\"})\n",
        "\n",
        "# Aplica um gradiente de cor à coluna \"Economia anual\"\n",
        "df = df.background_gradient(cmap=\"Reds\", subset=\"Economia_anual\")\n",
        "\n",
        "# Altera a fonte e o tamanho do texto da tabela\n",
        "df = df.set_table_styles([{\"font_size\": \"12pt\", \"font_family\n"
      ],
      "metadata": {
        "colab": {
          "base_uri": "https://localhost:8080/",
          "height": 135
        },
        "id": "_uk2ic_AAi8N",
        "outputId": "f62c659b-ca1f-4d6a-e8a5-47c3f9c78999"
      },
      "execution_count": 3,
      "outputs": [
        {
          "output_type": "error",
          "ename": "SyntaxError",
          "evalue": "ignored",
          "traceback": [
            "\u001b[0;36m  File \u001b[0;32m\"<ipython-input-3-afd6daecfa42>\"\u001b[0;36m, line \u001b[0;32m20\u001b[0m\n\u001b[0;31m    df = df.set_table_styles([{\"font_size\": \"12pt\", \"font_family\u001b[0m\n\u001b[0m                                                                ^\u001b[0m\n\u001b[0;31mSyntaxError\u001b[0m\u001b[0;31m:\u001b[0m EOL while scanning string literal\n"
          ]
        }
      ]
    },
    {
      "cell_type": "code",
      "execution_count": 1,
      "metadata": {
        "colab": {
          "base_uri": "https://localhost:8080/",
          "height": 412
        },
        "id": "CrWmrMps7zaS",
        "outputId": "3cb268a5-d76e-40b1-faa1-c93c8bcd9a74"
      },
      "outputs": [
        {
          "output_type": "error",
          "ename": "AttributeError",
          "evalue": "ignored",
          "traceback": [
            "\u001b[0;31m---------------------------------------------------------------------------\u001b[0m",
            "\u001b[0;31mAttributeError\u001b[0m                            Traceback (most recent call last)",
            "\u001b[0;32m<ipython-input-1-f9cc632a3f82>\u001b[0m in \u001b[0;36m<module>\u001b[0;34m\u001b[0m\n\u001b[1;32m      3\u001b[0m \u001b[0;31m# Cria a tabela\u001b[0m\u001b[0;34m\u001b[0m\u001b[0;34m\u001b[0m\u001b[0;34m\u001b[0m\u001b[0m\n\u001b[1;32m      4\u001b[0m \u001b[0mdf\u001b[0m \u001b[0;34m=\u001b[0m \u001b[0mpd\u001b[0m\u001b[0;34m.\u001b[0m\u001b[0mDataFrame\u001b[0m\u001b[0;34m(\u001b[0m\u001b[0;34m)\u001b[0m\u001b[0;34m\u001b[0m\u001b[0;34m\u001b[0m\u001b[0m\n\u001b[0;32m----> 5\u001b[0;31m \u001b[0mdf\u001b[0m\u001b[0;34m.\u001b[0m\u001b[0madd_column\u001b[0m\u001b[0;34m(\u001b[0m\u001b[0;34m\"Caixas de ponteiras\"\u001b[0m\u001b[0;34m,\u001b[0m \u001b[0;34m[\u001b[0m\u001b[0;36m2\u001b[0m\u001b[0;34m,\u001b[0m \u001b[0;36m4\u001b[0m\u001b[0;34m]\u001b[0m\u001b[0;34m)\u001b[0m\u001b[0;34m\u001b[0m\u001b[0;34m\u001b[0m\u001b[0m\n\u001b[0m\u001b[1;32m      6\u001b[0m \u001b[0mdf\u001b[0m\u001b[0;34m.\u001b[0m\u001b[0madd_column\u001b[0m\u001b[0;34m(\u001b[0m\u001b[0;34m\"Tempo\"\u001b[0m\u001b[0;34m,\u001b[0m \u001b[0;34m[\u001b[0m\u001b[0;34m\"Semanal\"\u001b[0m\u001b[0;34m,\u001b[0m \u001b[0;34m\"Semanal\"\u001b[0m\u001b[0;34m]\u001b[0m\u001b[0;34m)\u001b[0m\u001b[0;34m\u001b[0m\u001b[0;34m\u001b[0m\u001b[0m\n\u001b[1;32m      7\u001b[0m \u001b[0mdf\u001b[0m\u001b[0;34m.\u001b[0m\u001b[0madd_column\u001b[0m\u001b[0;34m(\u001b[0m\u001b[0;34m\"Gasto sem mudança\"\u001b[0m\u001b[0;34m,\u001b[0m \u001b[0;34m[\u001b[0m\u001b[0;36m3000\u001b[0m\u001b[0;34m,\u001b[0m \u001b[0;36m3000\u001b[0m\u001b[0;34m]\u001b[0m\u001b[0;34m)\u001b[0m  \u001b[0;31m# Adiciona a coluna \"Gasto sem mudança\" à tabela\u001b[0m\u001b[0;34m\u001b[0m\u001b[0;34m\u001b[0m\u001b[0m\n",
            "\u001b[0;32m/usr/local/lib/python3.8/dist-packages/pandas/core/generic.py\u001b[0m in \u001b[0;36m__getattr__\u001b[0;34m(self, name)\u001b[0m\n\u001b[1;32m   5485\u001b[0m         ):\n\u001b[1;32m   5486\u001b[0m             \u001b[0;32mreturn\u001b[0m \u001b[0mself\u001b[0m\u001b[0;34m[\u001b[0m\u001b[0mname\u001b[0m\u001b[0;34m]\u001b[0m\u001b[0;34m\u001b[0m\u001b[0;34m\u001b[0m\u001b[0m\n\u001b[0;32m-> 5487\u001b[0;31m         \u001b[0;32mreturn\u001b[0m \u001b[0mobject\u001b[0m\u001b[0;34m.\u001b[0m\u001b[0m__getattribute__\u001b[0m\u001b[0;34m(\u001b[0m\u001b[0mself\u001b[0m\u001b[0;34m,\u001b[0m \u001b[0mname\u001b[0m\u001b[0;34m)\u001b[0m\u001b[0;34m\u001b[0m\u001b[0;34m\u001b[0m\u001b[0m\n\u001b[0m\u001b[1;32m   5488\u001b[0m \u001b[0;34m\u001b[0m\u001b[0m\n\u001b[1;32m   5489\u001b[0m     \u001b[0;32mdef\u001b[0m \u001b[0m__setattr__\u001b[0m\u001b[0;34m(\u001b[0m\u001b[0mself\u001b[0m\u001b[0;34m,\u001b[0m \u001b[0mname\u001b[0m\u001b[0;34m:\u001b[0m \u001b[0mstr\u001b[0m\u001b[0;34m,\u001b[0m \u001b[0mvalue\u001b[0m\u001b[0;34m)\u001b[0m \u001b[0;34m->\u001b[0m \u001b[0;32mNone\u001b[0m\u001b[0;34m:\u001b[0m\u001b[0;34m\u001b[0m\u001b[0;34m\u001b[0m\u001b[0m\n",
            "\u001b[0;31mAttributeError\u001b[0m: 'DataFrame' object has no attribute 'add_column'"
          ]
        }
      ],
      "source": [
        "import pandas as pd\n",
        "\n",
        "# Cria a tabela\n",
        "df = pd.DataFrame()\n",
        "df.add_column(\"Caixas de ponteiras\", [2, 4])\n",
        "df.add_column(\"Tempo\", [\"Semanal\", \"Semanal\"])\n",
        "df.add_column(\"Gasto sem mudança\", [3000, 3000])  # Adiciona a coluna \"Gasto sem mudança\" à tabela\n",
        "df.add_column(\"Economia mensal\", [940, 11.280])  # Adiciona a coluna \"Economia mensal\" à tabela\n",
        "df.add_column(\"Economia anual\", [11.280, 134.360])  # Adiciona a coluna \"Economia anual\" à tabela\n",
        "\n",
        "# Exibe a tabela\n",
        "print(df)\n",
        "\n",
        "# Cria o gráfico\n",
        "df.plot(x=\"Tempo\", y=[\"Gasto sem mudança\", \"Economia mensal\", \"Economia anual\"], kind=\"bar\")\n"
      ]
    },
    {
      "cell_type": "code",
      "source": [
        "import pandas as pd\n",
        "from IPython.display import display\n",
        "\n",
        "# Cria a tabela\n",
        "df = pd.DataFrame()\n",
        "\n",
        "# Adiciona as colunas \"Caixas de ponteiras\", \"Tempo\", \"Gasto sem mudança\", \"Economia mensal\" e \"Economia anual\" à tabela\n",
        "df = df.assign(Caixas_de_ponteiras=[2, 4])\n",
        "df = df.assign(Tempo=[\"Semanal\", \"Semanal\"])\n",
        "df = df.assign(Gasto_sem_mudanca=[\"3.000,00\", \"3.000,00\"])\n",
        "df = df.assign(Economia_mensal=[\"940,00\", \"11.280,00\"])\n",
        "df = df.assign(Economia_anual=[\"11.280,00\", \"134.360,00\"])\n",
        "\n",
        "# Formata os valores da tabela como moeda\n",
        "df.style.format({'Gasto_sem_mudança': 'R${:,.2f}', 'Economia_mensal': 'R${:,.2f}', 'Economia_anual': 'R${:,.2f}'})\n",
        "\n",
        "# Aplica o formato de moeda às colunas \"Gasto sem mudança\", \"Economia mensal\" e \"Economia anual\"\n",
        "df = df.style.format({\"Gasto_sem_mudanca\": \"$ {:,.2f}\", \"Economia_mensal\": \"$ {:,.2f}\", \"Economia_anual\": \"$ {:,.2f}\"})\n",
        "\n",
        "# Aplica um gradiente de cor à coluna \"Economia anual\"\n",
        "df = df.background_gradient(cmap=\"Reds\", subset=\"Economia_anual\")\n",
        "\n",
        "# Altera a fonte e o tamanho do texto da tabela\n",
        "df = df.set_table_styles([{\"selector\": \"table\", \"props\": [(\"font-size\", \"12pt\"), (\"font-family\", \"Arial\")]}])\n",
        "\n",
        "# Exibe\n",
        "display(df)\n",
        "\n",
        "# Exibe o gráfico\n",
        "df.plot(x=\"Tempo\", y=[\"Gasto_sem_mudança\", \"Economia_mensal\", \"Economia_anual\"], kind=\"bar\")\n"
      ],
      "metadata": {
        "colab": {
          "base_uri": "https://localhost:8080/",
          "height": 701
        },
        "id": "1Xh5KaCJB0u5",
        "outputId": "91cfee53-4bb4-43fb-bb62-53fab84d4771"
      },
      "execution_count": 15,
      "outputs": [
        {
          "output_type": "error",
          "ename": "ValueError",
          "evalue": "ignored",
          "traceback": [
            "\u001b[0;31m---------------------------------------------------------------------------\u001b[0m",
            "\u001b[0;31mValueError\u001b[0m                                Traceback (most recent call last)",
            "\u001b[0;32m/usr/local/lib/python3.8/dist-packages/IPython/core/formatters.py\u001b[0m in \u001b[0;36m__call__\u001b[0;34m(self, obj)\u001b[0m\n\u001b[1;32m    339\u001b[0m                 \u001b[0;32mpass\u001b[0m\u001b[0;34m\u001b[0m\u001b[0;34m\u001b[0m\u001b[0m\n\u001b[1;32m    340\u001b[0m             \u001b[0;32melse\u001b[0m\u001b[0;34m:\u001b[0m\u001b[0;34m\u001b[0m\u001b[0;34m\u001b[0m\u001b[0m\n\u001b[0;32m--> 341\u001b[0;31m                 \u001b[0;32mreturn\u001b[0m \u001b[0mprinter\u001b[0m\u001b[0;34m(\u001b[0m\u001b[0mobj\u001b[0m\u001b[0;34m)\u001b[0m\u001b[0;34m\u001b[0m\u001b[0;34m\u001b[0m\u001b[0m\n\u001b[0m\u001b[1;32m    342\u001b[0m             \u001b[0;31m# Finally look for special method names\u001b[0m\u001b[0;34m\u001b[0m\u001b[0;34m\u001b[0m\u001b[0;34m\u001b[0m\u001b[0m\n\u001b[1;32m    343\u001b[0m             \u001b[0mmethod\u001b[0m \u001b[0;34m=\u001b[0m \u001b[0mget_real_method\u001b[0m\u001b[0;34m(\u001b[0m\u001b[0mobj\u001b[0m\u001b[0;34m,\u001b[0m \u001b[0mself\u001b[0m\u001b[0;34m.\u001b[0m\u001b[0mprint_method\u001b[0m\u001b[0;34m)\u001b[0m\u001b[0;34m\u001b[0m\u001b[0;34m\u001b[0m\u001b[0m\n",
            "\u001b[0;32m/usr/local/lib/python3.8/dist-packages/google/colab/_reprs.py\u001b[0m in \u001b[0;36mnew_formatter\u001b[0;34m(dataframe)\u001b[0m\n\u001b[1;32m     83\u001b[0m \u001b[0;34m\u001b[0m\u001b[0m\n\u001b[1;32m     84\u001b[0m   \u001b[0;32mdef\u001b[0m \u001b[0mnew_formatter\u001b[0m\u001b[0;34m(\u001b[0m\u001b[0mdataframe\u001b[0m\u001b[0;34m)\u001b[0m\u001b[0;34m:\u001b[0m\u001b[0;34m\u001b[0m\u001b[0;34m\u001b[0m\u001b[0m\n\u001b[0;32m---> 85\u001b[0;31m     \u001b[0;32mreturn\u001b[0m \u001b[0mdataframe\u001b[0m\u001b[0;34m.\u001b[0m\u001b[0mset_table_attributes\u001b[0m\u001b[0;34m(\u001b[0m\u001b[0;34m'class=\"dataframe\"'\u001b[0m\u001b[0;34m)\u001b[0m\u001b[0;34m.\u001b[0m\u001b[0m_repr_html_\u001b[0m\u001b[0;34m(\u001b[0m\u001b[0;34m)\u001b[0m  \u001b[0;31m# pylint: disable=protected-access\u001b[0m\u001b[0;34m\u001b[0m\u001b[0;34m\u001b[0m\u001b[0m\n\u001b[0m\u001b[1;32m     86\u001b[0m \u001b[0;34m\u001b[0m\u001b[0m\n\u001b[1;32m     87\u001b[0m   _original_df_formatters[key] = formatters[key].for_type_by_name(\n",
            "\u001b[0;32m/usr/local/lib/python3.8/dist-packages/pandas/io/formats/style.py\u001b[0m in \u001b[0;36m_repr_html_\u001b[0;34m(self)\u001b[0m\n\u001b[1;32m    214\u001b[0m         \u001b[0mHooks\u001b[0m \u001b[0minto\u001b[0m \u001b[0mJupyter\u001b[0m \u001b[0mnotebook\u001b[0m \u001b[0mrich\u001b[0m \u001b[0mdisplay\u001b[0m \u001b[0msystem\u001b[0m\u001b[0;34m.\u001b[0m\u001b[0;34m\u001b[0m\u001b[0;34m\u001b[0m\u001b[0m\n\u001b[1;32m    215\u001b[0m         \"\"\"\n\u001b[0;32m--> 216\u001b[0;31m         \u001b[0;32mreturn\u001b[0m \u001b[0mself\u001b[0m\u001b[0;34m.\u001b[0m\u001b[0mrender\u001b[0m\u001b[0;34m(\u001b[0m\u001b[0;34m)\u001b[0m\u001b[0;34m\u001b[0m\u001b[0;34m\u001b[0m\u001b[0m\n\u001b[0m\u001b[1;32m    217\u001b[0m \u001b[0;34m\u001b[0m\u001b[0m\n\u001b[1;32m    218\u001b[0m     def render(\n",
            "\u001b[0;32m/usr/local/lib/python3.8/dist-packages/pandas/io/formats/style.py\u001b[0m in \u001b[0;36mrender\u001b[0;34m(self, sparse_index, sparse_columns, **kwargs)\u001b[0m\n\u001b[1;32m    270\u001b[0m         \u001b[0;32mif\u001b[0m \u001b[0msparse_columns\u001b[0m \u001b[0;32mis\u001b[0m \u001b[0;32mNone\u001b[0m\u001b[0;34m:\u001b[0m\u001b[0;34m\u001b[0m\u001b[0;34m\u001b[0m\u001b[0m\n\u001b[1;32m    271\u001b[0m             \u001b[0msparse_columns\u001b[0m \u001b[0;34m=\u001b[0m \u001b[0mget_option\u001b[0m\u001b[0;34m(\u001b[0m\u001b[0;34m\"styler.sparse.columns\"\u001b[0m\u001b[0;34m)\u001b[0m\u001b[0;34m\u001b[0m\u001b[0;34m\u001b[0m\u001b[0m\n\u001b[0;32m--> 272\u001b[0;31m         \u001b[0;32mreturn\u001b[0m \u001b[0mself\u001b[0m\u001b[0;34m.\u001b[0m\u001b[0m_render_html\u001b[0m\u001b[0;34m(\u001b[0m\u001b[0msparse_index\u001b[0m\u001b[0;34m,\u001b[0m \u001b[0msparse_columns\u001b[0m\u001b[0;34m,\u001b[0m \u001b[0;34m**\u001b[0m\u001b[0mkwargs\u001b[0m\u001b[0;34m)\u001b[0m\u001b[0;34m\u001b[0m\u001b[0;34m\u001b[0m\u001b[0m\n\u001b[0m\u001b[1;32m    273\u001b[0m \u001b[0;34m\u001b[0m\u001b[0m\n\u001b[1;32m    274\u001b[0m     def set_tooltips(\n",
            "\u001b[0;32m/usr/local/lib/python3.8/dist-packages/pandas/io/formats/style_render.py\u001b[0m in \u001b[0;36m_render_html\u001b[0;34m(self, sparse_index, sparse_columns, **kwargs)\u001b[0m\n\u001b[1;32m    119\u001b[0m         \u001b[0mGenerates\u001b[0m \u001b[0ma\u001b[0m \u001b[0mdict\u001b[0m \u001b[0;32mwith\u001b[0m \u001b[0mnecessary\u001b[0m \u001b[0mkwargs\u001b[0m \u001b[0mpassed\u001b[0m \u001b[0mto\u001b[0m \u001b[0mjinja2\u001b[0m \u001b[0mtemplate\u001b[0m\u001b[0;34m.\u001b[0m\u001b[0;34m\u001b[0m\u001b[0;34m\u001b[0m\u001b[0m\n\u001b[1;32m    120\u001b[0m         \"\"\"\n\u001b[0;32m--> 121\u001b[0;31m         \u001b[0mself\u001b[0m\u001b[0;34m.\u001b[0m\u001b[0m_compute\u001b[0m\u001b[0;34m(\u001b[0m\u001b[0;34m)\u001b[0m\u001b[0;34m\u001b[0m\u001b[0;34m\u001b[0m\u001b[0m\n\u001b[0m\u001b[1;32m    122\u001b[0m         \u001b[0;31m# TODO: namespace all the pandas keys\u001b[0m\u001b[0;34m\u001b[0m\u001b[0;34m\u001b[0m\u001b[0;34m\u001b[0m\u001b[0m\n\u001b[1;32m    123\u001b[0m         \u001b[0md\u001b[0m \u001b[0;34m=\u001b[0m \u001b[0mself\u001b[0m\u001b[0;34m.\u001b[0m\u001b[0m_translate\u001b[0m\u001b[0;34m(\u001b[0m\u001b[0msparse_index\u001b[0m\u001b[0;34m,\u001b[0m \u001b[0msparse_columns\u001b[0m\u001b[0;34m)\u001b[0m\u001b[0;34m\u001b[0m\u001b[0;34m\u001b[0m\u001b[0m\n",
            "\u001b[0;32m/usr/local/lib/python3.8/dist-packages/pandas/io/formats/style_render.py\u001b[0m in \u001b[0;36m_compute\u001b[0;34m(self)\u001b[0m\n\u001b[1;32m    158\u001b[0m         \u001b[0mr\u001b[0m \u001b[0;34m=\u001b[0m \u001b[0mself\u001b[0m\u001b[0;34m\u001b[0m\u001b[0;34m\u001b[0m\u001b[0m\n\u001b[1;32m    159\u001b[0m         \u001b[0;32mfor\u001b[0m \u001b[0mfunc\u001b[0m\u001b[0;34m,\u001b[0m \u001b[0margs\u001b[0m\u001b[0;34m,\u001b[0m \u001b[0mkwargs\u001b[0m \u001b[0;32min\u001b[0m \u001b[0mself\u001b[0m\u001b[0;34m.\u001b[0m\u001b[0m_todo\u001b[0m\u001b[0;34m:\u001b[0m\u001b[0;34m\u001b[0m\u001b[0;34m\u001b[0m\u001b[0m\n\u001b[0;32m--> 160\u001b[0;31m             \u001b[0mr\u001b[0m \u001b[0;34m=\u001b[0m \u001b[0mfunc\u001b[0m\u001b[0;34m(\u001b[0m\u001b[0mself\u001b[0m\u001b[0;34m)\u001b[0m\u001b[0;34m(\u001b[0m\u001b[0;34m*\u001b[0m\u001b[0margs\u001b[0m\u001b[0;34m,\u001b[0m \u001b[0;34m**\u001b[0m\u001b[0mkwargs\u001b[0m\u001b[0;34m)\u001b[0m\u001b[0;34m\u001b[0m\u001b[0;34m\u001b[0m\u001b[0m\n\u001b[0m\u001b[1;32m    161\u001b[0m         \u001b[0;32mreturn\u001b[0m \u001b[0mr\u001b[0m\u001b[0;34m\u001b[0m\u001b[0;34m\u001b[0m\u001b[0m\n\u001b[1;32m    162\u001b[0m \u001b[0;34m\u001b[0m\u001b[0m\n",
            "\u001b[0;32m/usr/local/lib/python3.8/dist-packages/pandas/io/formats/style.py\u001b[0m in \u001b[0;36m_apply\u001b[0;34m(self, func, axis, subset, **kwargs)\u001b[0m\n\u001b[1;32m   1053\u001b[0m         \u001b[0mdata\u001b[0m \u001b[0;34m=\u001b[0m \u001b[0mself\u001b[0m\u001b[0;34m.\u001b[0m\u001b[0mdata\u001b[0m\u001b[0;34m.\u001b[0m\u001b[0mloc\u001b[0m\u001b[0;34m[\u001b[0m\u001b[0msubset\u001b[0m\u001b[0;34m]\u001b[0m\u001b[0;34m\u001b[0m\u001b[0;34m\u001b[0m\u001b[0m\n\u001b[1;32m   1054\u001b[0m         \u001b[0;32mif\u001b[0m \u001b[0maxis\u001b[0m \u001b[0;32mis\u001b[0m \u001b[0;32mnot\u001b[0m \u001b[0;32mNone\u001b[0m\u001b[0;34m:\u001b[0m\u001b[0;34m\u001b[0m\u001b[0;34m\u001b[0m\u001b[0m\n\u001b[0;32m-> 1055\u001b[0;31m             \u001b[0mresult\u001b[0m \u001b[0;34m=\u001b[0m \u001b[0mdata\u001b[0m\u001b[0;34m.\u001b[0m\u001b[0mapply\u001b[0m\u001b[0;34m(\u001b[0m\u001b[0mfunc\u001b[0m\u001b[0;34m,\u001b[0m \u001b[0maxis\u001b[0m\u001b[0;34m=\u001b[0m\u001b[0maxis\u001b[0m\u001b[0;34m,\u001b[0m \u001b[0mresult_type\u001b[0m\u001b[0;34m=\u001b[0m\u001b[0;34m\"expand\"\u001b[0m\u001b[0;34m,\u001b[0m \u001b[0;34m**\u001b[0m\u001b[0mkwargs\u001b[0m\u001b[0;34m)\u001b[0m\u001b[0;34m\u001b[0m\u001b[0;34m\u001b[0m\u001b[0m\n\u001b[0m\u001b[1;32m   1056\u001b[0m             \u001b[0mresult\u001b[0m\u001b[0;34m.\u001b[0m\u001b[0mcolumns\u001b[0m \u001b[0;34m=\u001b[0m \u001b[0mdata\u001b[0m\u001b[0;34m.\u001b[0m\u001b[0mcolumns\u001b[0m\u001b[0;34m\u001b[0m\u001b[0;34m\u001b[0m\u001b[0m\n\u001b[1;32m   1057\u001b[0m         \u001b[0;32melse\u001b[0m\u001b[0;34m:\u001b[0m\u001b[0;34m\u001b[0m\u001b[0;34m\u001b[0m\u001b[0m\n",
            "\u001b[0;32m/usr/local/lib/python3.8/dist-packages/pandas/core/frame.py\u001b[0m in \u001b[0;36mapply\u001b[0;34m(self, func, axis, raw, result_type, args, **kwargs)\u001b[0m\n\u001b[1;32m   8738\u001b[0m             \u001b[0mkwargs\u001b[0m\u001b[0;34m=\u001b[0m\u001b[0mkwargs\u001b[0m\u001b[0;34m,\u001b[0m\u001b[0;34m\u001b[0m\u001b[0;34m\u001b[0m\u001b[0m\n\u001b[1;32m   8739\u001b[0m         )\n\u001b[0;32m-> 8740\u001b[0;31m         \u001b[0;32mreturn\u001b[0m \u001b[0mop\u001b[0m\u001b[0;34m.\u001b[0m\u001b[0mapply\u001b[0m\u001b[0;34m(\u001b[0m\u001b[0;34m)\u001b[0m\u001b[0;34m\u001b[0m\u001b[0;34m\u001b[0m\u001b[0m\n\u001b[0m\u001b[1;32m   8741\u001b[0m \u001b[0;34m\u001b[0m\u001b[0m\n\u001b[1;32m   8742\u001b[0m     def applymap(\n",
            "\u001b[0;32m/usr/local/lib/python3.8/dist-packages/pandas/core/apply.py\u001b[0m in \u001b[0;36mapply\u001b[0;34m(self)\u001b[0m\n\u001b[1;32m    686\u001b[0m             \u001b[0;32mreturn\u001b[0m \u001b[0mself\u001b[0m\u001b[0;34m.\u001b[0m\u001b[0mapply_raw\u001b[0m\u001b[0;34m(\u001b[0m\u001b[0;34m)\u001b[0m\u001b[0;34m\u001b[0m\u001b[0;34m\u001b[0m\u001b[0m\n\u001b[1;32m    687\u001b[0m \u001b[0;34m\u001b[0m\u001b[0m\n\u001b[0;32m--> 688\u001b[0;31m         \u001b[0;32mreturn\u001b[0m \u001b[0mself\u001b[0m\u001b[0;34m.\u001b[0m\u001b[0mapply_standard\u001b[0m\u001b[0;34m(\u001b[0m\u001b[0;34m)\u001b[0m\u001b[0;34m\u001b[0m\u001b[0;34m\u001b[0m\u001b[0m\n\u001b[0m\u001b[1;32m    689\u001b[0m \u001b[0;34m\u001b[0m\u001b[0m\n\u001b[1;32m    690\u001b[0m     \u001b[0;32mdef\u001b[0m \u001b[0magg\u001b[0m\u001b[0;34m(\u001b[0m\u001b[0mself\u001b[0m\u001b[0;34m)\u001b[0m\u001b[0;34m:\u001b[0m\u001b[0;34m\u001b[0m\u001b[0;34m\u001b[0m\u001b[0m\n",
            "\u001b[0;32m/usr/local/lib/python3.8/dist-packages/pandas/core/apply.py\u001b[0m in \u001b[0;36mapply_standard\u001b[0;34m(self)\u001b[0m\n\u001b[1;32m    810\u001b[0m \u001b[0;34m\u001b[0m\u001b[0m\n\u001b[1;32m    811\u001b[0m     \u001b[0;32mdef\u001b[0m \u001b[0mapply_standard\u001b[0m\u001b[0;34m(\u001b[0m\u001b[0mself\u001b[0m\u001b[0;34m)\u001b[0m\u001b[0;34m:\u001b[0m\u001b[0;34m\u001b[0m\u001b[0;34m\u001b[0m\u001b[0m\n\u001b[0;32m--> 812\u001b[0;31m         \u001b[0mresults\u001b[0m\u001b[0;34m,\u001b[0m \u001b[0mres_index\u001b[0m \u001b[0;34m=\u001b[0m \u001b[0mself\u001b[0m\u001b[0;34m.\u001b[0m\u001b[0mapply_series_generator\u001b[0m\u001b[0;34m(\u001b[0m\u001b[0;34m)\u001b[0m\u001b[0;34m\u001b[0m\u001b[0;34m\u001b[0m\u001b[0m\n\u001b[0m\u001b[1;32m    813\u001b[0m \u001b[0;34m\u001b[0m\u001b[0m\n\u001b[1;32m    814\u001b[0m         \u001b[0;31m# wrap results\u001b[0m\u001b[0;34m\u001b[0m\u001b[0;34m\u001b[0m\u001b[0;34m\u001b[0m\u001b[0m\n",
            "\u001b[0;32m/usr/local/lib/python3.8/dist-packages/pandas/core/apply.py\u001b[0m in \u001b[0;36mapply_series_generator\u001b[0;34m(self)\u001b[0m\n\u001b[1;32m    826\u001b[0m             \u001b[0;32mfor\u001b[0m \u001b[0mi\u001b[0m\u001b[0;34m,\u001b[0m \u001b[0mv\u001b[0m \u001b[0;32min\u001b[0m \u001b[0menumerate\u001b[0m\u001b[0;34m(\u001b[0m\u001b[0mseries_gen\u001b[0m\u001b[0;34m)\u001b[0m\u001b[0;34m:\u001b[0m\u001b[0;34m\u001b[0m\u001b[0;34m\u001b[0m\u001b[0m\n\u001b[1;32m    827\u001b[0m                 \u001b[0;31m# ignore SettingWithCopy here in case the user mutates\u001b[0m\u001b[0;34m\u001b[0m\u001b[0;34m\u001b[0m\u001b[0;34m\u001b[0m\u001b[0m\n\u001b[0;32m--> 828\u001b[0;31m                 \u001b[0mresults\u001b[0m\u001b[0;34m[\u001b[0m\u001b[0mi\u001b[0m\u001b[0;34m]\u001b[0m \u001b[0;34m=\u001b[0m \u001b[0mself\u001b[0m\u001b[0;34m.\u001b[0m\u001b[0mf\u001b[0m\u001b[0;34m(\u001b[0m\u001b[0mv\u001b[0m\u001b[0;34m)\u001b[0m\u001b[0;34m\u001b[0m\u001b[0;34m\u001b[0m\u001b[0m\n\u001b[0m\u001b[1;32m    829\u001b[0m                 \u001b[0;32mif\u001b[0m \u001b[0misinstance\u001b[0m\u001b[0;34m(\u001b[0m\u001b[0mresults\u001b[0m\u001b[0;34m[\u001b[0m\u001b[0mi\u001b[0m\u001b[0;34m]\u001b[0m\u001b[0;34m,\u001b[0m \u001b[0mABCSeries\u001b[0m\u001b[0;34m)\u001b[0m\u001b[0;34m:\u001b[0m\u001b[0;34m\u001b[0m\u001b[0;34m\u001b[0m\u001b[0m\n\u001b[1;32m    830\u001b[0m                     \u001b[0;31m# If we have a view on v, we need to make a copy because\u001b[0m\u001b[0;34m\u001b[0m\u001b[0;34m\u001b[0m\u001b[0;34m\u001b[0m\u001b[0m\n",
            "\u001b[0;32m/usr/local/lib/python3.8/dist-packages/pandas/core/apply.py\u001b[0m in \u001b[0;36mf\u001b[0;34m(x)\u001b[0m\n\u001b[1;32m    129\u001b[0m \u001b[0;34m\u001b[0m\u001b[0m\n\u001b[1;32m    130\u001b[0m             \u001b[0;32mdef\u001b[0m \u001b[0mf\u001b[0m\u001b[0;34m(\u001b[0m\u001b[0mx\u001b[0m\u001b[0;34m)\u001b[0m\u001b[0;34m:\u001b[0m\u001b[0;34m\u001b[0m\u001b[0;34m\u001b[0m\u001b[0m\n\u001b[0;32m--> 131\u001b[0;31m                 \u001b[0;32mreturn\u001b[0m \u001b[0mfunc\u001b[0m\u001b[0;34m(\u001b[0m\u001b[0mx\u001b[0m\u001b[0;34m,\u001b[0m \u001b[0;34m*\u001b[0m\u001b[0margs\u001b[0m\u001b[0;34m,\u001b[0m \u001b[0;34m**\u001b[0m\u001b[0mkwargs\u001b[0m\u001b[0;34m)\u001b[0m\u001b[0;34m\u001b[0m\u001b[0;34m\u001b[0m\u001b[0m\n\u001b[0m\u001b[1;32m    132\u001b[0m \u001b[0;34m\u001b[0m\u001b[0m\n\u001b[1;32m    133\u001b[0m         \u001b[0;32melse\u001b[0m\u001b[0;34m:\u001b[0m\u001b[0;34m\u001b[0m\u001b[0;34m\u001b[0m\u001b[0m\n",
            "\u001b[0;32m/usr/local/lib/python3.8/dist-packages/pandas/io/formats/style.py\u001b[0m in \u001b[0;36m_background_gradient\u001b[0;34m(data, cmap, low, high, text_color_threshold, vmin, vmax, gmap, text_only)\u001b[0m\n\u001b[1;32m   2806\u001b[0m     \"\"\"\n\u001b[1;32m   2807\u001b[0m     \u001b[0;32mif\u001b[0m \u001b[0mgmap\u001b[0m \u001b[0;32mis\u001b[0m \u001b[0;32mNone\u001b[0m\u001b[0;34m:\u001b[0m  \u001b[0;31m# the data is used the gmap\u001b[0m\u001b[0;34m\u001b[0m\u001b[0;34m\u001b[0m\u001b[0m\n\u001b[0;32m-> 2808\u001b[0;31m         \u001b[0mgmap\u001b[0m \u001b[0;34m=\u001b[0m \u001b[0mdata\u001b[0m\u001b[0;34m.\u001b[0m\u001b[0mto_numpy\u001b[0m\u001b[0;34m(\u001b[0m\u001b[0mdtype\u001b[0m\u001b[0;34m=\u001b[0m\u001b[0mfloat\u001b[0m\u001b[0;34m)\u001b[0m\u001b[0;34m\u001b[0m\u001b[0;34m\u001b[0m\u001b[0m\n\u001b[0m\u001b[1;32m   2809\u001b[0m     \u001b[0;32melse\u001b[0m\u001b[0;34m:\u001b[0m  \u001b[0;31m# else validate gmap against the underlying data\u001b[0m\u001b[0;34m\u001b[0m\u001b[0;34m\u001b[0m\u001b[0m\n\u001b[1;32m   2810\u001b[0m         \u001b[0mgmap\u001b[0m \u001b[0;34m=\u001b[0m \u001b[0m_validate_apply_axis_arg\u001b[0m\u001b[0;34m(\u001b[0m\u001b[0mgmap\u001b[0m\u001b[0;34m,\u001b[0m \u001b[0;34m\"gmap\"\u001b[0m\u001b[0;34m,\u001b[0m \u001b[0mfloat\u001b[0m\u001b[0;34m,\u001b[0m \u001b[0mdata\u001b[0m\u001b[0;34m)\u001b[0m\u001b[0;34m\u001b[0m\u001b[0;34m\u001b[0m\u001b[0m\n",
            "\u001b[0;32m/usr/local/lib/python3.8/dist-packages/pandas/core/base.py\u001b[0m in \u001b[0;36mto_numpy\u001b[0;34m(self, dtype, copy, na_value, **kwargs)\u001b[0m\n\u001b[1;32m    525\u001b[0m         \u001b[0;31m# None, type, _SupportsDType, str, Union[Tuple[Any, int], Tuple[Any, Union[int,\u001b[0m\u001b[0;34m\u001b[0m\u001b[0;34m\u001b[0m\u001b[0;34m\u001b[0m\u001b[0m\n\u001b[1;32m    526\u001b[0m         \u001b[0;31m# Sequence[int]]], List[Any], _DTypeDict, Tuple[Any, Any]]]\"\u001b[0m\u001b[0;34m\u001b[0m\u001b[0;34m\u001b[0m\u001b[0;34m\u001b[0m\u001b[0m\n\u001b[0;32m--> 527\u001b[0;31m         \u001b[0mresult\u001b[0m \u001b[0;34m=\u001b[0m \u001b[0mnp\u001b[0m\u001b[0;34m.\u001b[0m\u001b[0masarray\u001b[0m\u001b[0;34m(\u001b[0m\u001b[0mself\u001b[0m\u001b[0;34m.\u001b[0m\u001b[0m_values\u001b[0m\u001b[0;34m,\u001b[0m \u001b[0mdtype\u001b[0m\u001b[0;34m=\u001b[0m\u001b[0mdtype\u001b[0m\u001b[0;34m)\u001b[0m  \u001b[0;31m# type: ignore[arg-type]\u001b[0m\u001b[0;34m\u001b[0m\u001b[0;34m\u001b[0m\u001b[0m\n\u001b[0m\u001b[1;32m    528\u001b[0m         \u001b[0;31m# TODO(GH-24345): Avoid potential double copy\u001b[0m\u001b[0;34m\u001b[0m\u001b[0;34m\u001b[0m\u001b[0;34m\u001b[0m\u001b[0m\n\u001b[1;32m    529\u001b[0m         \u001b[0;32mif\u001b[0m \u001b[0mcopy\u001b[0m \u001b[0;32mor\u001b[0m \u001b[0mna_value\u001b[0m \u001b[0;32mis\u001b[0m \u001b[0;32mnot\u001b[0m \u001b[0mlib\u001b[0m\u001b[0;34m.\u001b[0m\u001b[0mno_default\u001b[0m\u001b[0;34m:\u001b[0m\u001b[0;34m\u001b[0m\u001b[0;34m\u001b[0m\u001b[0m\n",
            "\u001b[0;31mValueError\u001b[0m: could not convert string to float: '11.280,00'"
          ]
        },
        {
          "output_type": "display_data",
          "data": {
            "text/plain": [
              "<pandas.io.formats.style.Styler at 0x7efe4d269490>"
            ]
          },
          "metadata": {}
        },
        {
          "output_type": "error",
          "ename": "AttributeError",
          "evalue": "ignored",
          "traceback": [
            "\u001b[0;31m---------------------------------------------------------------------------\u001b[0m",
            "\u001b[0;31mAttributeError\u001b[0m                            Traceback (most recent call last)",
            "\u001b[0;32m<ipython-input-15-5a0be45e0b7e>\u001b[0m in \u001b[0;36m<module>\u001b[0;34m\u001b[0m\n\u001b[1;32m     28\u001b[0m \u001b[0;34m\u001b[0m\u001b[0m\n\u001b[1;32m     29\u001b[0m \u001b[0;31m# Exibe o gráfico\u001b[0m\u001b[0;34m\u001b[0m\u001b[0;34m\u001b[0m\u001b[0;34m\u001b[0m\u001b[0m\n\u001b[0;32m---> 30\u001b[0;31m \u001b[0mdf\u001b[0m\u001b[0;34m.\u001b[0m\u001b[0mplot\u001b[0m\u001b[0;34m(\u001b[0m\u001b[0mx\u001b[0m\u001b[0;34m=\u001b[0m\u001b[0;34m\"Tempo\"\u001b[0m\u001b[0;34m,\u001b[0m \u001b[0my\u001b[0m\u001b[0;34m=\u001b[0m\u001b[0;34m[\u001b[0m\u001b[0;34m\"Gasto_sem_mudança\"\u001b[0m\u001b[0;34m,\u001b[0m \u001b[0;34m\"Economia_mensal\"\u001b[0m\u001b[0;34m,\u001b[0m \u001b[0;34m\"Economia_anual\"\u001b[0m\u001b[0;34m]\u001b[0m\u001b[0;34m,\u001b[0m \u001b[0mkind\u001b[0m\u001b[0;34m=\u001b[0m\u001b[0;34m\"bar\"\u001b[0m\u001b[0;34m)\u001b[0m\u001b[0;34m\u001b[0m\u001b[0;34m\u001b[0m\u001b[0m\n\u001b[0m",
            "\u001b[0;31mAttributeError\u001b[0m: 'Styler' object has no attribute 'plot'"
          ]
        }
      ]
    },
    {
      "cell_type": "code",
      "source": [
        "# Cria a tabela\n",
        "df = pd.DataFrame()\n",
        "\n",
        "# Adiciona as colunas \"Caixas de ponteiras\", \"Tempo\", \"Gasto sem mudança\", \"Economia mensal\" e \"Economia anual\" à tabela\n",
        "df = df.assign(Caixas_de_ponteiras=[2, 4])\n",
        "df = df.assign(Tempo=[\"Semanal\", \"Semanal\"])\n",
        "df = df.assign(Gasto_sem_mudanca=[float(\"3.000,00\".replace(\",\", \".\")), float(\"3.000,00\".replace(\",\", \".\"))])\n",
        "df = df.assign(Economia_mensal=[float(\"940,00\".replace(\",\", \".\")), float(\"11.280,00\".replace(\",\", \".\"))])\n",
        "df = df.assign(Economia_anual=[float(\"11.280,00\".replace(\",\", \".\")), float(\"134.360,00\".replace(\",\", \".\"))])\n",
        "\n",
        "# Formata os valores da tabela como moeda\n",
        "df.style.format({'Gasto_sem_mudança': 'R${:,.2f}', 'Economia_mensal': 'R${:,.2f}', 'Economia_anual': 'R${:,.2f}'})\n",
        "\n",
        "# Exibe\n",
        "display(df)\n",
        "\n",
        "# Exibe o gráfico\n",
        "df.plot(x=\"Tempo\", y=[\"Gasto_sem_mudança\", \"Economia_mensal\", \"Economia_anual\"], kind=\"bar\")\n"
      ],
      "metadata": {
        "colab": {
          "base_uri": "https://localhost:8080/",
          "height": 301
        },
        "id": "V1WFXJW_G_WY",
        "outputId": "493ba935-614a-40ae-8e27-80b8534e173c"
      },
      "execution_count": 16,
      "outputs": [
        {
          "output_type": "error",
          "ename": "ValueError",
          "evalue": "ignored",
          "traceback": [
            "\u001b[0;31m---------------------------------------------------------------------------\u001b[0m",
            "\u001b[0;31mValueError\u001b[0m                                Traceback (most recent call last)",
            "\u001b[0;32m<ipython-input-16-2eda8256dacf>\u001b[0m in \u001b[0;36m<module>\u001b[0;34m\u001b[0m\n\u001b[1;32m      5\u001b[0m \u001b[0mdf\u001b[0m \u001b[0;34m=\u001b[0m \u001b[0mdf\u001b[0m\u001b[0;34m.\u001b[0m\u001b[0massign\u001b[0m\u001b[0;34m(\u001b[0m\u001b[0mCaixas_de_ponteiras\u001b[0m\u001b[0;34m=\u001b[0m\u001b[0;34m[\u001b[0m\u001b[0;36m2\u001b[0m\u001b[0;34m,\u001b[0m \u001b[0;36m4\u001b[0m\u001b[0;34m]\u001b[0m\u001b[0;34m)\u001b[0m\u001b[0;34m\u001b[0m\u001b[0;34m\u001b[0m\u001b[0m\n\u001b[1;32m      6\u001b[0m \u001b[0mdf\u001b[0m \u001b[0;34m=\u001b[0m \u001b[0mdf\u001b[0m\u001b[0;34m.\u001b[0m\u001b[0massign\u001b[0m\u001b[0;34m(\u001b[0m\u001b[0mTempo\u001b[0m\u001b[0;34m=\u001b[0m\u001b[0;34m[\u001b[0m\u001b[0;34m\"Semanal\"\u001b[0m\u001b[0;34m,\u001b[0m \u001b[0;34m\"Semanal\"\u001b[0m\u001b[0;34m]\u001b[0m\u001b[0;34m)\u001b[0m\u001b[0;34m\u001b[0m\u001b[0;34m\u001b[0m\u001b[0m\n\u001b[0;32m----> 7\u001b[0;31m \u001b[0mdf\u001b[0m \u001b[0;34m=\u001b[0m \u001b[0mdf\u001b[0m\u001b[0;34m.\u001b[0m\u001b[0massign\u001b[0m\u001b[0;34m(\u001b[0m\u001b[0mGasto_sem_mudanca\u001b[0m\u001b[0;34m=\u001b[0m\u001b[0;34m[\u001b[0m\u001b[0mfloat\u001b[0m\u001b[0;34m(\u001b[0m\u001b[0;34m\"3.000,00\"\u001b[0m\u001b[0;34m.\u001b[0m\u001b[0mreplace\u001b[0m\u001b[0;34m(\u001b[0m\u001b[0;34m\",\"\u001b[0m\u001b[0;34m,\u001b[0m \u001b[0;34m\".\"\u001b[0m\u001b[0;34m)\u001b[0m\u001b[0;34m)\u001b[0m\u001b[0;34m,\u001b[0m \u001b[0mfloat\u001b[0m\u001b[0;34m(\u001b[0m\u001b[0;34m\"3.000,00\"\u001b[0m\u001b[0;34m.\u001b[0m\u001b[0mreplace\u001b[0m\u001b[0;34m(\u001b[0m\u001b[0;34m\",\"\u001b[0m\u001b[0;34m,\u001b[0m \u001b[0;34m\".\"\u001b[0m\u001b[0;34m)\u001b[0m\u001b[0;34m)\u001b[0m\u001b[0;34m]\u001b[0m\u001b[0;34m)\u001b[0m\u001b[0;34m\u001b[0m\u001b[0;34m\u001b[0m\u001b[0m\n\u001b[0m\u001b[1;32m      8\u001b[0m \u001b[0mdf\u001b[0m \u001b[0;34m=\u001b[0m \u001b[0mdf\u001b[0m\u001b[0;34m.\u001b[0m\u001b[0massign\u001b[0m\u001b[0;34m(\u001b[0m\u001b[0mEconomia_mensal\u001b[0m\u001b[0;34m=\u001b[0m\u001b[0;34m[\u001b[0m\u001b[0mfloat\u001b[0m\u001b[0;34m(\u001b[0m\u001b[0;34m\"940,00\"\u001b[0m\u001b[0;34m.\u001b[0m\u001b[0mreplace\u001b[0m\u001b[0;34m(\u001b[0m\u001b[0;34m\",\"\u001b[0m\u001b[0;34m,\u001b[0m \u001b[0;34m\".\"\u001b[0m\u001b[0;34m)\u001b[0m\u001b[0;34m)\u001b[0m\u001b[0;34m,\u001b[0m \u001b[0mfloat\u001b[0m\u001b[0;34m(\u001b[0m\u001b[0;34m\"11.280,00\"\u001b[0m\u001b[0;34m.\u001b[0m\u001b[0mreplace\u001b[0m\u001b[0;34m(\u001b[0m\u001b[0;34m\",\"\u001b[0m\u001b[0;34m,\u001b[0m \u001b[0;34m\".\"\u001b[0m\u001b[0;34m)\u001b[0m\u001b[0;34m)\u001b[0m\u001b[0;34m]\u001b[0m\u001b[0;34m)\u001b[0m\u001b[0;34m\u001b[0m\u001b[0;34m\u001b[0m\u001b[0m\n\u001b[1;32m      9\u001b[0m \u001b[0mdf\u001b[0m \u001b[0;34m=\u001b[0m \u001b[0mdf\u001b[0m\u001b[0;34m.\u001b[0m\u001b[0massign\u001b[0m\u001b[0;34m(\u001b[0m\u001b[0mEconomia_anual\u001b[0m\u001b[0;34m=\u001b[0m\u001b[0;34m[\u001b[0m\u001b[0mfloat\u001b[0m\u001b[0;34m(\u001b[0m\u001b[0;34m\"11.280,00\"\u001b[0m\u001b[0;34m.\u001b[0m\u001b[0mreplace\u001b[0m\u001b[0;34m(\u001b[0m\u001b[0;34m\",\"\u001b[0m\u001b[0;34m,\u001b[0m \u001b[0;34m\".\"\u001b[0m\u001b[0;34m)\u001b[0m\u001b[0;34m)\u001b[0m\u001b[0;34m,\u001b[0m \u001b[0mfloat\u001b[0m\u001b[0;34m(\u001b[0m\u001b[0;34m\"134.360,00\"\u001b[0m\u001b[0;34m.\u001b[0m\u001b[0mreplace\u001b[0m\u001b[0;34m(\u001b[0m\u001b[0;34m\",\"\u001b[0m\u001b[0;34m,\u001b[0m \u001b[0;34m\".\"\u001b[0m\u001b[0;34m)\u001b[0m\u001b[0;34m)\u001b[0m\u001b[0;34m]\u001b[0m\u001b[0;34m)\u001b[0m\u001b[0;34m\u001b[0m\u001b[0;34m\u001b[0m\u001b[0m\n",
            "\u001b[0;31mValueError\u001b[0m: could not convert string to float: '3.000.00'"
          ]
        }
      ]
    },
    {
      "cell_type": "code",
      "source": [
        "# Cria a tabela\n",
        "df = pd.DataFrame()\n",
        "\n",
        "# Adiciona as colunas \"Caixas de ponteiras\", \"Tempo\", \"Gasto sem mudança\", \"Economia mensal\" e \"Economia anual\" à tabela\n",
        "df = df.assign(Caixas_de_ponteiras=[2, 4])\n",
        "df = df.assign(Tempo=[\"Semanal\", \"Semanal\"])\n",
        "df = df.assign(Gasto_sem_mudanca=[float(\"3.000.00\".replace(\",\", \".\")), float(\"3.000.00\".replace(\",\", \".\"))])\n",
        "df = df.assign(Economia_mensal=[float(\"940.00\".replace(\",\", \".\")), float(\"11.280.00\".replace(\",\", \".\"))])\n",
        "df = df.assign(Economia_anual=[float(\"11.280.00\".replace(\",\", \".\")), float(\"134.360.00\".replace(\",\", \".\"))])\n",
        "\n",
        "# Formata os valores da tabela como moeda\n",
        "df.style.format({'Gasto_sem_mudança': 'R${:,.2f}', 'Economia_mensal': 'R${:,.2f}', 'Economia_anual': 'R${:,.2f}'})\n",
        "\n",
        "# Exibe\n",
        "display(df)\n",
        "\n",
        "# Exibe o gráfico\n",
        "df.plot(x=\"Tempo\", y=[\"Gasto_sem_mudança\", \"Economia_mensal\", \"Economia_anual\"], kind=\"bar\")\n"
      ],
      "metadata": {
        "colab": {
          "base_uri": "https://localhost:8080/",
          "height": 301
        },
        "id": "Cmbry1lQHQgO",
        "outputId": "7324844f-1f05-4122-8fbd-9174773411bf"
      },
      "execution_count": 17,
      "outputs": [
        {
          "output_type": "error",
          "ename": "ValueError",
          "evalue": "ignored",
          "traceback": [
            "\u001b[0;31m---------------------------------------------------------------------------\u001b[0m",
            "\u001b[0;31mValueError\u001b[0m                                Traceback (most recent call last)",
            "\u001b[0;32m<ipython-input-17-f9bbac1a5dfa>\u001b[0m in \u001b[0;36m<module>\u001b[0;34m\u001b[0m\n\u001b[1;32m      5\u001b[0m \u001b[0mdf\u001b[0m \u001b[0;34m=\u001b[0m \u001b[0mdf\u001b[0m\u001b[0;34m.\u001b[0m\u001b[0massign\u001b[0m\u001b[0;34m(\u001b[0m\u001b[0mCaixas_de_ponteiras\u001b[0m\u001b[0;34m=\u001b[0m\u001b[0;34m[\u001b[0m\u001b[0;36m2\u001b[0m\u001b[0;34m,\u001b[0m \u001b[0;36m4\u001b[0m\u001b[0;34m]\u001b[0m\u001b[0;34m)\u001b[0m\u001b[0;34m\u001b[0m\u001b[0;34m\u001b[0m\u001b[0m\n\u001b[1;32m      6\u001b[0m \u001b[0mdf\u001b[0m \u001b[0;34m=\u001b[0m \u001b[0mdf\u001b[0m\u001b[0;34m.\u001b[0m\u001b[0massign\u001b[0m\u001b[0;34m(\u001b[0m\u001b[0mTempo\u001b[0m\u001b[0;34m=\u001b[0m\u001b[0;34m[\u001b[0m\u001b[0;34m\"Semanal\"\u001b[0m\u001b[0;34m,\u001b[0m \u001b[0;34m\"Semanal\"\u001b[0m\u001b[0;34m]\u001b[0m\u001b[0;34m)\u001b[0m\u001b[0;34m\u001b[0m\u001b[0;34m\u001b[0m\u001b[0m\n\u001b[0;32m----> 7\u001b[0;31m \u001b[0mdf\u001b[0m \u001b[0;34m=\u001b[0m \u001b[0mdf\u001b[0m\u001b[0;34m.\u001b[0m\u001b[0massign\u001b[0m\u001b[0;34m(\u001b[0m\u001b[0mGasto_sem_mudanca\u001b[0m\u001b[0;34m=\u001b[0m\u001b[0;34m[\u001b[0m\u001b[0mfloat\u001b[0m\u001b[0;34m(\u001b[0m\u001b[0;34m\"3.000.00\"\u001b[0m\u001b[0;34m.\u001b[0m\u001b[0mreplace\u001b[0m\u001b[0;34m(\u001b[0m\u001b[0;34m\",\"\u001b[0m\u001b[0;34m,\u001b[0m \u001b[0;34m\".\"\u001b[0m\u001b[0;34m)\u001b[0m\u001b[0;34m)\u001b[0m\u001b[0;34m,\u001b[0m \u001b[0mfloat\u001b[0m\u001b[0;34m(\u001b[0m\u001b[0;34m\"3.000.00\"\u001b[0m\u001b[0;34m.\u001b[0m\u001b[0mreplace\u001b[0m\u001b[0;34m(\u001b[0m\u001b[0;34m\",\"\u001b[0m\u001b[0;34m,\u001b[0m \u001b[0;34m\".\"\u001b[0m\u001b[0;34m)\u001b[0m\u001b[0;34m)\u001b[0m\u001b[0;34m]\u001b[0m\u001b[0;34m)\u001b[0m\u001b[0;34m\u001b[0m\u001b[0;34m\u001b[0m\u001b[0m\n\u001b[0m\u001b[1;32m      8\u001b[0m \u001b[0mdf\u001b[0m \u001b[0;34m=\u001b[0m \u001b[0mdf\u001b[0m\u001b[0;34m.\u001b[0m\u001b[0massign\u001b[0m\u001b[0;34m(\u001b[0m\u001b[0mEconomia_mensal\u001b[0m\u001b[0;34m=\u001b[0m\u001b[0;34m[\u001b[0m\u001b[0mfloat\u001b[0m\u001b[0;34m(\u001b[0m\u001b[0;34m\"940.00\"\u001b[0m\u001b[0;34m.\u001b[0m\u001b[0mreplace\u001b[0m\u001b[0;34m(\u001b[0m\u001b[0;34m\",\"\u001b[0m\u001b[0;34m,\u001b[0m \u001b[0;34m\".\"\u001b[0m\u001b[0;34m)\u001b[0m\u001b[0;34m)\u001b[0m\u001b[0;34m,\u001b[0m \u001b[0mfloat\u001b[0m\u001b[0;34m(\u001b[0m\u001b[0;34m\"11.280.00\"\u001b[0m\u001b[0;34m.\u001b[0m\u001b[0mreplace\u001b[0m\u001b[0;34m(\u001b[0m\u001b[0;34m\",\"\u001b[0m\u001b[0;34m,\u001b[0m \u001b[0;34m\".\"\u001b[0m\u001b[0;34m)\u001b[0m\u001b[0;34m)\u001b[0m\u001b[0;34m]\u001b[0m\u001b[0;34m)\u001b[0m\u001b[0;34m\u001b[0m\u001b[0;34m\u001b[0m\u001b[0m\n\u001b[1;32m      9\u001b[0m \u001b[0mdf\u001b[0m \u001b[0;34m=\u001b[0m \u001b[0mdf\u001b[0m\u001b[0;34m.\u001b[0m\u001b[0massign\u001b[0m\u001b[0;34m(\u001b[0m\u001b[0mEconomia_anual\u001b[0m\u001b[0;34m=\u001b[0m\u001b[0;34m[\u001b[0m\u001b[0mfloat\u001b[0m\u001b[0;34m(\u001b[0m\u001b[0;34m\"11.280.00\"\u001b[0m\u001b[0;34m.\u001b[0m\u001b[0mreplace\u001b[0m\u001b[0;34m(\u001b[0m\u001b[0;34m\",\"\u001b[0m\u001b[0;34m,\u001b[0m \u001b[0;34m\".\"\u001b[0m\u001b[0;34m)\u001b[0m\u001b[0;34m)\u001b[0m\u001b[0;34m,\u001b[0m \u001b[0mfloat\u001b[0m\u001b[0;34m(\u001b[0m\u001b[0;34m\"134.360.00\"\u001b[0m\u001b[0;34m.\u001b[0m\u001b[0mreplace\u001b[0m\u001b[0;34m(\u001b[0m\u001b[0;34m\",\"\u001b[0m\u001b[0;34m,\u001b[0m \u001b[0;34m\".\"\u001b[0m\u001b[0;34m)\u001b[0m\u001b[0;34m)\u001b[0m\u001b[0;34m]\u001b[0m\u001b[0;34m)\u001b[0m\u001b[0;34m\u001b[0m\u001b[0;34m\u001b[0m\u001b[0m\n",
            "\u001b[0;31mValueError\u001b[0m: could not convert string to float: '3.000.00'"
          ]
        }
      ]
    },
    {
      "cell_type": "code",
      "source": [
        "import pandas as pd\n",
        "from IPython.display import display\n",
        "\n",
        "# Cria a tabela\n",
        "df = pd.DataFrame()\n",
        "\n",
        "# Adiciona as colunas \"Caixas de ponteiras\", \"Tempo\", \"Gasto sem mudança\", \"Economia mensal\" e \"Economia anual\" à tabela\n",
        "df = df.assign(Gasto_sem_mudanca=[float(\"3000.00\"), float(\"3000.00\")])\n",
        "df = df.assign(Economia_mensal=[float(\"940.00\"), float(\"11280.00\")])\n",
        "df = df.assign(Economia_anual=[float(\"11280.00\"), float(\"134360.00\")])\n",
        "\n",
        "\n",
        "# Formata os valores da tabela como moeda\n",
        "df.style.format({'Gasto_sem_mudança': 'R${:,.2f}', 'Economia_mensal': 'R${:,.2f}', 'Economia_anual': 'R${:,.2f}'})\n",
        "\n",
        "# Aplica o formato de moeda às colunas \"Gasto sem mudança\", \"Economia mensal\" e \"Economia anual\"\n",
        "df = df.style.format({\"Gasto_sem_mudanca\": \"$ {:,.2f}\", \"Economia_mensal\": \"$ {:,.2f}\", \"Economia_anual\": \"$ {:,.2f}\"})\n",
        "\n",
        "# Aplica um gradiente de cor à coluna \"Economia anual\"\n",
        "df = df.background_gradient(cmap=\"Reds\", subset=\"Economia_anual\")\n",
        "\n",
        "# Altera a fonte e o tamanho do texto da tabela\n",
        "df = df.set_table_styles([{\"selector\": \"table\", \"props\": [(\"font-size\", \"12pt\"), (\"font-family\", \"Arial\")]}])\n",
        "\n",
        "# Exibe\n",
        "display(df)\n",
        "\n",
        "# Exibe o gráfico\n",
        "df.plot(x=\"Tempo\", y=[\"Gasto_sem_mudanca\", \"Economia_mensal\", \"Economia_anual\"], kind=\"bar\")\n"
      ],
      "metadata": {
        "colab": {
          "base_uri": "https://localhost:8080/",
          "height": 322
        },
        "id": "1GzFHScLHq9y",
        "outputId": "a5b103fc-90c9-4ab9-9d95-7343e64bf631"
      },
      "execution_count": 32,
      "outputs": [
        {
          "output_type": "display_data",
          "data": {
            "text/plain": [
              "<pandas.io.formats.style.Styler at 0x7efe41b10d30>"
            ],
            "text/html": [
              "<style type=\"text/css\">\n",
              "#T_5ff86_ table {\n",
              "  font-size: 12pt;\n",
              "  font-family: Arial;\n",
              "}\n",
              "#T_5ff86_row0_col2 {\n",
              "  background-color: #fff5f0;\n",
              "  color: #000000;\n",
              "}\n",
              "#T_5ff86_row1_col2 {\n",
              "  background-color: #67000d;\n",
              "  color: #f1f1f1;\n",
              "}\n",
              "</style>\n",
              "<table id=\"T_5ff86_\" class=\"dataframe\">\n",
              "  <thead>\n",
              "    <tr>\n",
              "      <th class=\"blank level0\" >&nbsp;</th>\n",
              "      <th class=\"col_heading level0 col0\" >Gasto_sem_mudanca</th>\n",
              "      <th class=\"col_heading level0 col1\" >Economia_mensal</th>\n",
              "      <th class=\"col_heading level0 col2\" >Economia_anual</th>\n",
              "    </tr>\n",
              "  </thead>\n",
              "  <tbody>\n",
              "    <tr>\n",
              "      <th id=\"T_5ff86_level0_row0\" class=\"row_heading level0 row0\" >0</th>\n",
              "      <td id=\"T_5ff86_row0_col0\" class=\"data row0 col0\" >$ 3,000.00</td>\n",
              "      <td id=\"T_5ff86_row0_col1\" class=\"data row0 col1\" >$ 940.00</td>\n",
              "      <td id=\"T_5ff86_row0_col2\" class=\"data row0 col2\" >$ 11,280.00</td>\n",
              "    </tr>\n",
              "    <tr>\n",
              "      <th id=\"T_5ff86_level0_row1\" class=\"row_heading level0 row1\" >1</th>\n",
              "      <td id=\"T_5ff86_row1_col0\" class=\"data row1 col0\" >$ 3,000.00</td>\n",
              "      <td id=\"T_5ff86_row1_col1\" class=\"data row1 col1\" >$ 11,280.00</td>\n",
              "      <td id=\"T_5ff86_row1_col2\" class=\"data row1 col2\" >$ 134,360.00</td>\n",
              "    </tr>\n",
              "  </tbody>\n",
              "</table>\n"
            ]
          },
          "metadata": {}
        },
        {
          "output_type": "error",
          "ename": "AttributeError",
          "evalue": "ignored",
          "traceback": [
            "\u001b[0;31m---------------------------------------------------------------------------\u001b[0m",
            "\u001b[0;31mAttributeError\u001b[0m                            Traceback (most recent call last)",
            "\u001b[0;32m<ipython-input-32-2f3b6a33648e>\u001b[0m in \u001b[0;36m<module>\u001b[0;34m\u001b[0m\n\u001b[1;32m     27\u001b[0m \u001b[0;34m\u001b[0m\u001b[0m\n\u001b[1;32m     28\u001b[0m \u001b[0;31m# Exibe o gráfico\u001b[0m\u001b[0;34m\u001b[0m\u001b[0;34m\u001b[0m\u001b[0;34m\u001b[0m\u001b[0m\n\u001b[0;32m---> 29\u001b[0;31m \u001b[0mdf\u001b[0m\u001b[0;34m.\u001b[0m\u001b[0mplot\u001b[0m\u001b[0;34m(\u001b[0m\u001b[0mx\u001b[0m\u001b[0;34m=\u001b[0m\u001b[0;34m\"Tempo\"\u001b[0m\u001b[0;34m,\u001b[0m \u001b[0my\u001b[0m\u001b[0;34m=\u001b[0m\u001b[0;34m[\u001b[0m\u001b[0;34m\"Gasto_sem_mudanca\"\u001b[0m\u001b[0;34m,\u001b[0m \u001b[0;34m\"Economia_mensal\"\u001b[0m\u001b[0;34m,\u001b[0m \u001b[0;34m\"Economia_anual\"\u001b[0m\u001b[0;34m]\u001b[0m\u001b[0;34m,\u001b[0m \u001b[0mkind\u001b[0m\u001b[0;34m=\u001b[0m\u001b[0;34m\"bar\"\u001b[0m\u001b[0;34m)\u001b[0m\u001b[0;34m\u001b[0m\u001b[0;34m\u001b[0m\u001b[0m\n\u001b[0m",
            "\u001b[0;31mAttributeError\u001b[0m: 'Styler' object has no attribute 'plot'"
          ]
        }
      ]
    },
    {
      "cell_type": "code",
      "source": [
        "import pandas as pd\n",
        "from IPython.display import display\n",
        "\n",
        "# Cria a tabela\n",
        "df = pd.DataFrame()\n",
        "\n",
        "# Adiciona as colunas \"Caixas de ponteiras\", \"Tempo\", \"Gasto sem mudança\", \"Economia mensal\" e \"Economia anual\" à tabela\n",
        "df = df.assign(Gasto_sem_mudanca=[float(\"3000.00\"), float(\"3000.00\")])\n",
        "df = df.assign(Economia_mensal=[float(\"940.00\"), float(\"11280.00\")])\n",
        "df = df.assign(Economia_anual=[float(\"11280.00\"), float(\"134360.00\")])\n",
        "\n",
        "# Armazena o objeto DataFrame original\n",
        "df_original = df\n",
        "\n",
        "# Formata os valores da tabela como moeda\n",
        "df = df.style.format({'Gasto_sem_mudança': 'R${:,.2f}', 'Economia_mensal': 'R${:,.2f}', 'Economia_anual': 'R${:,.2f}'})\n",
        "\n",
        "# Aplica o formato de moeda às colunas \"Gasto sem mudança\", \"Economia mensal\" e \"Economia anual\"\n",
        "df = df.style.format({\"Gasto_sem_mudanca\": \"$ {:,.2f}\", \"Economia_mensal\": \"$ {:,.2f}\", \"Economia_anual\": \"$ {:,.2f}\"})\n",
        "\n",
        "# Aplica um gradiente de cor à coluna \"Economia anual\"\n",
        "df = df.background_gradient(cmap=\"Reds\", subset=\"Economia_anual\")\n",
        "\n",
        "# Altera a fonte e o tamanho do texto da tabela\n",
        "df = df.set_table_styles([{\"selector\": \"table\", \"props\": [(\"font-size\", \"12pt\"), (\"font-family\", \"Arial\")]}])\n",
        "\n",
        "# Exibe\n",
        "display(df)\n",
        "\n",
        "# Exibe o gráfico\n",
        "df_original.plot(y=[\"Gasto_sem_mudança\", \"Economia_mensal\", \"Economia_anual\"], kind=\"bar\")\n"
      ],
      "metadata": {
        "colab": {
          "base_uri": "https://localhost:8080/",
          "height": 283
        },
        "id": "v912Cr--L2m1",
        "outputId": "1ae264f0-02dc-42c2-beb8-93291b54d324"
      },
      "execution_count": 26,
      "outputs": [
        {
          "output_type": "error",
          "ename": "AttributeError",
          "evalue": "ignored",
          "traceback": [
            "\u001b[0;31m---------------------------------------------------------------------------\u001b[0m",
            "\u001b[0;31mAttributeError\u001b[0m                            Traceback (most recent call last)",
            "\u001b[0;32m<ipython-input-26-ec8eb053bfd2>\u001b[0m in \u001b[0;36m<module>\u001b[0;34m\u001b[0m\n\u001b[1;32m     17\u001b[0m \u001b[0;34m\u001b[0m\u001b[0m\n\u001b[1;32m     18\u001b[0m \u001b[0;31m# Aplica o formato de moeda às colunas \"Gasto sem mudança\", \"Economia mensal\" e \"Economia anual\"\u001b[0m\u001b[0;34m\u001b[0m\u001b[0;34m\u001b[0m\u001b[0;34m\u001b[0m\u001b[0m\n\u001b[0;32m---> 19\u001b[0;31m \u001b[0mdf\u001b[0m \u001b[0;34m=\u001b[0m \u001b[0mdf\u001b[0m\u001b[0;34m.\u001b[0m\u001b[0mstyle\u001b[0m\u001b[0;34m.\u001b[0m\u001b[0mformat\u001b[0m\u001b[0;34m(\u001b[0m\u001b[0;34m{\u001b[0m\u001b[0;34m\"Gasto_sem_mudanca\"\u001b[0m\u001b[0;34m:\u001b[0m \u001b[0;34m\"$ {:,.2f}\"\u001b[0m\u001b[0;34m,\u001b[0m \u001b[0;34m\"Economia_mensal\"\u001b[0m\u001b[0;34m:\u001b[0m \u001b[0;34m\"$ {:,.2f}\"\u001b[0m\u001b[0;34m,\u001b[0m \u001b[0;34m\"Economia_anual\"\u001b[0m\u001b[0;34m:\u001b[0m \u001b[0;34m\"$ {:,.2f}\"\u001b[0m\u001b[0;34m}\u001b[0m\u001b[0;34m)\u001b[0m\u001b[0;34m\u001b[0m\u001b[0;34m\u001b[0m\u001b[0m\n\u001b[0m\u001b[1;32m     20\u001b[0m \u001b[0;34m\u001b[0m\u001b[0m\n\u001b[1;32m     21\u001b[0m \u001b[0;31m# Aplica um gradiente de cor à coluna \"Economia anual\"\u001b[0m\u001b[0;34m\u001b[0m\u001b[0;34m\u001b[0m\u001b[0;34m\u001b[0m\u001b[0m\n",
            "\u001b[0;31mAttributeError\u001b[0m: 'Styler' object has no attribute 'style'"
          ]
        }
      ]
    },
    {
      "cell_type": "code",
      "source": [
        "import pandas as pd\n",
        "from IPython.display import display\n",
        "\n",
        "# Cria a tabela\n",
        "df = pd.DataFrame()\n",
        "\n",
        "# Adiciona as colunas \"Caixas de ponteiras\", \"Tempo\", \"Gasto sem mudança\", \"Economia mensal\" e \"Economia anual\" à tabela\n",
        "df = df.assign(Gasto_sem_mudanca=[3000.00, 3000.00])\n",
        "df = df.assign(Economia_mensal=[940.00, 11280.00])\n",
        "df = df.assign(Economia_anual=[11280.00, 134360.00])\n",
        "\n",
        "# Formata os valores da tabela como moeda\n",
        "df['Gasto_sem_mudanca'] = df['Gasto_sem_mudanca'].apply(lambda x: \"$ {:,.2f}\".format(x))\n",
        "df['Economia_mensal'] = df['Economia_mensal'].apply(lambda x: \"$ {:,.2f}\".format(x))\n",
        "df['Economia_anual'] = df['Economia_anual'].apply(lambda x: \"$ {:,.2f}\".format(x))\n",
        "\n",
        "# Aplica um gradiente de cor à coluna \"Economia anual\"\n",
        "df = df.style.background_gradient(cmap=\"Reds\", subset=\"Economia_anual\")\n",
        "\n",
        "# Altera a fonte e o tamanho do texto da tabela\n",
        "df = df.set_table_styles([{\"selector\": \"table\", \"props\": [(\"font-size\", \"12pt\"), (\"font-family\", \"Arial\")]}])\n",
        "\n",
        "# Exibe\n",
        "display(df)\n",
        "\n",
        "# Exibe o gráfico\n",
        "df.plot(y=[\"Gasto_sem_mudança\", \"Economia_mensal\", \"Economia_anual\"], kind=\"bar\")\n"
      ],
      "metadata": {
        "id": "pS_a6eupMSKx"
      },
      "execution_count": null,
      "outputs": []
    },
    {
      "cell_type": "code",
      "source": [
        "import pandas as pd\n",
        "\n",
        "# Cria a tabela\n",
        "df = pd.DataFrame()\n",
        "\n",
        "# Adiciona as colunas \"Caixas de ponteiras\", \"Tempo\", \"Gasto sem mudança\", \"Economia mensal\" e \"Economia anual\" à tabela\n",
        "df = df.assign(Caixas_de_ponteiras=[2, 4])\n",
        "df = df.assign(Tempo=[\"Semanal\", \"Semanal\"])\n",
        "df = df.assign(Gasto_sem_mudanca=[3000, 3000])\n",
        "df = df.assign(Economia_mensal=[940, 11.280])\n",
        "df = df.assign(Economia_anual=[11.280, 134.360])\n",
        "\n",
        "# Exibe a tabela\n",
        "print(df)\n",
        "\n",
        "# Cria o gráfico\n",
        "df.plot(x=\"Tempo\", y=[\"Gasto_sem_mudanca\", \"Economia_mensal\", \"Economia_anual\"], kind=\"bar\")\n"
      ],
      "metadata": {
        "colab": {
          "base_uri": "https://localhost:8080/",
          "height": 461
        },
        "id": "bOKijglB8Mor",
        "outputId": "83298c8e-dde2-4e5c-9403-83bb5c5ed3a6"
      },
      "execution_count": 33,
      "outputs": [
        {
          "output_type": "stream",
          "name": "stdout",
          "text": [
            "   Caixas_de_ponteiras    Tempo  Gasto_sem_mudanca  Economia_mensal  \\\n",
            "0                    2  Semanal               3000           940.00   \n",
            "1                    4  Semanal               3000            11.28   \n",
            "\n",
            "   Economia_anual  \n",
            "0           11.28  \n",
            "1          134.36  \n"
          ]
        },
        {
          "output_type": "execute_result",
          "data": {
            "text/plain": [
              "<matplotlib.axes._subplots.AxesSubplot at 0x7efe41aadcd0>"
            ]
          },
          "metadata": {},
          "execution_count": 33
        },
        {
          "output_type": "display_data",
          "data": {
            "text/plain": [
              "<Figure size 432x288 with 1 Axes>"
            ],
            "image/png": "[encoded data removed]"
          },
          "metadata": {
            "needs_background": "light"
          }
        }
      ]
    },
    {
      "cell_type": "code",
      "source": [
        "import pandas as pd\n",
        "import matplotlib.pyplot as plt\n",
        "\n",
        "# Cria um dicionário com os dados da tabela\n",
        "data = {'Caixas Economizadas': [1, 2, 3, 4], \n",
        "        'Redução de Custo Mensal (R$)': [1000, 2000, 3000, 4000], \n",
        "        'Redução de Custo Anual (R$)': [12000, 24000, 36000, 48000]}\n",
        "\n",
        "# Cria o DataFrame a partir do dicionário\n",
        "df = pd.DataFrame(data)\n",
        "\n",
        "# Mostra a tabela\n",
        "print(df)\n",
        "\n",
        "# Cria o gráfico de linhas\n",
        "df.plot(x='Caixas Economizadas', y=['Redução de Custo Mensal (R$)', 'Redução de Custo Anual (R$)'])\n",
        "\n",
        "# Mostra o gráfico\n",
        "plt.show()\n"
      ],
      "metadata": {
        "colab": {
          "base_uri": "https://localhost:8080/",
          "height": 485
        },
        "id": "QBD4zFvYWvqV",
        "outputId": "01f52262-f037-4159-bda6-17518804d622"
      },
      "execution_count": 35,
      "outputs": [
        {
          "output_type": "stream",
          "name": "stdout",
          "text": [
            "   Caixas Economizadas  Redução de Custo Mensal (R$)  \\\n",
            "0                    1                          1000   \n",
            "1                    2                          2000   \n",
            "2                    3                          3000   \n",
            "3                    4                          4000   \n",
            "\n",
            "   Redução de Custo Anual (R$)  \n",
            "0                        12000  \n",
            "1                        24000  \n",
            "2                        36000  \n",
            "3                        48000  \n"
          ]
        },
        {
          "output_type": "display_data",
          "data": {
            "text/plain": [
              "<Figure size 432x288 with 1 Axes>"
            ],
            "image/png": "[encoded data removed]"
          },
          "metadata": {
            "needs_background": "light"
          }
        }
      ]
    },
    {
      "cell_type": "code",
      "source": [
        "import pandas as pd\n",
        "import matplotlib.pyplot as plt\n",
        "\n",
        "# Cria um dicionário com os dados da tabela\n",
        "data = {'Caixas Economizadas': [1, 2, 3, 4], \n",
        "        'Redução de Custo Mensal (R$)': [1000, 2000, 3000, 4000], \n",
        "        'Redução de Custo Anual (R$)': [12000, 24000, 36000, 48000]}\n",
        "\n",
        "# Cria o DataFrame a partir do dicionário\n",
        "df = pd.DataFrame(data)\n",
        "\n",
        "# Formata a tabela\n",
        "df.style.format({'Redução de Custo Mensal (R$)': 'R${:,.2f}', 'Redução de Custo Anual (R$)': 'R${:,.2f}'})\n",
        "\n",
        "# Mostra a tabela\n",
        "print(df)\n",
        "\n",
        "# Cria o gráfico de linhas\n",
        "df.plot(x='Caixas Economizadas', y=['Redução de Custo Mensal (R$)', 'Redução de Custo Anual (R$)'])\n",
        "\n",
        "# Mostra o gráfico\n",
        "plt.show()\n"
      ],
      "metadata": {
        "colab": {
          "base_uri": "https://localhost:8080/",
          "height": 485
        },
        "id": "6Ca0Q9rvXUH4",
        "outputId": "eab8a7d9-62f2-496a-e48d-2bb68a243c92"
      },
      "execution_count": 36,
      "outputs": [
        {
          "output_type": "stream",
          "name": "stdout",
          "text": [
            "   Caixas Economizadas  Redução de Custo Mensal (R$)  \\\n",
            "0                    1                          1000   \n",
            "1                    2                          2000   \n",
            "2                    3                          3000   \n",
            "3                    4                          4000   \n",
            "\n",
            "   Redução de Custo Anual (R$)  \n",
            "0                        12000  \n",
            "1                        24000  \n",
            "2                        36000  \n",
            "3                        48000  \n"
          ]
        },
        {
          "output_type": "display_data",
          "data": {
            "text/plain": [
              "<Figure size 432x288 with 1 Axes>"
            ],
            "image/png": "[encoded data removed]"
          },
          "metadata": {
            "needs_background": "light"
          }
        }
      ]
    },
    {
      "cell_type": "code",
      "source": [
        "import pandas as pd\n",
        "import matplotlib.pyplot as plt\n",
        "\n",
        "# Calcula o custo mensal e anual sem redução de custo\n",
        "custo_mensal_sem_reducao = 4 * 20 * 3000 / 50\n",
        "custo_anual_sem_reducao = custo_mensal_sem_reducao * 12\n",
        "\n",
        "# Calcula o custo mensal e anual com redução de custo\n",
        "custo_mensal_com_reducao = 1 * 20 * 3000 / 50\n",
        "custo_anual_com_reducao = custo_mensal_com_reducao * 12\n",
        "\n",
        "# Calcula a redução de custo mensal e anual\n",
        "reducao_mensal = custo_mensal_sem_reducao - custo_mensal_com_reducao\n",
        "reducao_anual = custo_anual_sem_reducao - custo_anual_com_reducao\n",
        "\n",
        "# Cria um dicionário com os dados da tabela\n",
        "data = {'Situação': ['Sem Redução de Custo', 'Com Redução de Custo'], \n",
        "        'Custo Mensal (R$)': [custo_mensal_sem_reducao, custo_mensal_com_reducao], \n",
        "        'Custo Anual (R$)': [custo_anual_sem_reducao, custo_anual_com_reducao],\n",
        "        'Redução de Custo Mensal (R$)': [0, reducao_mensal],\n",
        "        'Redução de Custo Anual (R$)': [0, reducao_anual]}\n",
        "\n",
        "# Cria o DataFrame a partir do dicionário\n",
        "df = pd.DataFrame(data)\n",
        "\n",
        "# Formata a tabela\n",
        "df.style.format({'Custo Mensal (R$)': 'R${:,.2f}', \n",
        "                 'Custo Anual (R$)': 'R${:,.2f}',\n",
        "                 'Redução de Custo Mensal (R$)': 'R${:,.2f}',\n",
        "                 'Redução de Custo Anual (R$)': 'R${:,.2f}'})\n",
        "\n",
        "# Mostra a tabela\n",
        "print(df)\n",
        "\n",
        "# Cria o gráfico de barras\n",
        "df.plot(x='Situação', y=['Custo Mensal (R$)', 'Custo Anual (R$)', 'Redução de Custo Mensal (R$)', 'Redução de Custo Anual (R$)'], kind='bar')\n",
        "\n",
        "# Mostra o gráfico\n",
        "plt.show()\n"
      ],
      "metadata": {
        "colab": {
          "base_uri": "https://localhost:8080/",
          "height": 516
        },
        "id": "UUmYp2jNZa4S",
        "outputId": "84380066-207c-420e-b6cc-fc93fa184324"
      },
      "execution_count": 37,
      "outputs": [
        {
          "output_type": "stream",
          "name": "stdout",
          "text": [
            "               Situação  Custo Mensal (R$)  Custo Anual (R$)  \\\n",
            "0  Sem Redução de Custo             4800.0           57600.0   \n",
            "1  Com Redução de Custo             1200.0           14400.0   \n",
            "\n",
            "   Redução de Custo Mensal (R$)  Redução de Custo Anual (R$)  \n",
            "0                           0.0                          0.0  \n",
            "1                        3600.0                      43200.0  \n"
          ]
        },
        {
          "output_type": "display_data",
          "data": {
            "text/plain": [
              "<Figure size 432x288 with 1 Axes>"
            ],
            "image/png": "[encoded data removed]"
          },
          "metadata": {
            "needs_background": "light"
          }
        }
      ]
    },
    {
      "cell_type": "code",
      "source": [
        "import pandas as pd\n",
        "import matplotlib.pyplot as plt\n",
        "\n",
        "# Calcula o custo mensal e anual usando 4 caixas por dia\n",
        "custo_mensal_4 = 4 * 20 * 3000 / 50\n",
        "custo_anual_4 = custo_mensal_4 * 12\n",
        "\n",
        "# Calcula o custo mensal e anual usando 1 caixa por dia\n",
        "custo_mensal_1 = 1 * 20 * 3000 / 50\n",
        "custo_anual_1 = custo_mensal_1 * 12\n",
        "\n",
        "# Calcula a redução de custo mensal e anual\n",
        "reducao_mensal = custo_mensal_4 - custo_mensal_1\n",
        "reducao_anual = custo_anual_4 - custo_anual_1\n",
        "\n",
        "# Cria um dicionário com os dados da tabela\n",
        "data = {'Situação': ['4 Caixas por Dia', '1 Caixa por Dia', 'Redução de 3 Caixas'], \n",
        "        'Custo Mensal (R$)': [custo_mensal_4, custo_mensal_1, 0], \n",
        "        'Custo Anual (R$)': [custo_anual_4, custo_anual_1, 0],\n",
        "        'Redução de Custo Mensal (R$)': [0, 0, reducao_mensal],\n",
        "        'Redução de Custo Anual (R$)': [0, 0, reducao_anual]}\n",
        "\n",
        "# Cria o DataFrame a partir do dicionário\n",
        "df = pd.DataFrame(data)\n",
        "\n",
        "# Formata a tabela\n",
        "df.style.format({'Custo Mensal (R$)': 'R${:,.2f}', \n",
        "                 'Custo Anual (R$)': 'R${:,.2f}',\n",
        "                 'Redução de Custo Mensal (R$)': 'R${:,.2f}',\n",
        "                 'Redução de Custo Anual (R$)': 'R${:,.2f}'})\n",
        "\n",
        "# Mostra a tabela\n",
        "print(df)\n",
        "\n",
        "# Cria o gráfico de barras\n",
        "df.plot(x='Situação', y=['Custo Mensal (R$)', 'Custo Anual (R$)', 'Redução de Custo Mensal (R$)', 'Redução de Custo Anual (R$)'], kind='bar')\n",
        "\n",
        "# Mostra o gráfico\n",
        "plt.show()\n",
        "\n"
      ],
      "metadata": {
        "colab": {
          "base_uri": "https://localhost:8080/",
          "height": 542
        },
        "id": "lBUUyJZia0nK",
        "outputId": "1fba1800-b8da-4979-8887-062cca04ddb1"
      },
      "execution_count": 38,
      "outputs": [
        {
          "output_type": "stream",
          "name": "stdout",
          "text": [
            "              Situação  Custo Mensal (R$)  Custo Anual (R$)  \\\n",
            "0     4 Caixas por Dia             4800.0           57600.0   \n",
            "1      1 Caixa por Dia             1200.0           14400.0   \n",
            "2  Redução de 3 Caixas                0.0               0.0   \n",
            "\n",
            "   Redução de Custo Mensal (R$)  Redução de Custo Anual (R$)  \n",
            "0                           0.0                          0.0  \n",
            "1                           0.0                          0.0  \n",
            "2                        3600.0                      43200.0  \n"
          ]
        },
        {
          "output_type": "display_data",
          "data": {
            "text/plain": [
              "<Figure size 432x288 with 1 Axes>"
            ],
            "image/png": "[encoded data removed]"
          },
          "metadata": {
            "needs_background": "light"
          }
        }
      ]
    },
    {
      "cell_type": "code",
      "source": [
        "import pandas as pd\n",
        "import matplotlib.pyplot as plt\n",
        "\n",
        "# Calcula o custo mensal e anual usando 4 caixas por dia\n",
        "custo_mensal_4 = 4 * 20 * 3000 / 50\n",
        "custo_anual_4 = custo_mensal_4 * 12\n",
        "\n",
        "# Calcula o custo mensal e anual usando 1 caixa por dia\n",
        "custo_mensal_1 = 1 * 20 * 3000 / 50\n",
        "custo_anual_1 = custo_mensal_1 * 12\n",
        "\n",
        "# Calcula a redução de custo mensal e anual\n",
        "reducao_mensal = custo_mensal_4 - custo_mensal_1\n",
        "reducao_anual = custo_anual_4 - custo_anual_1\n",
        "\n",
        "# Cria um dicionário com os dados da tabela\n",
        "data = {'Situação': ['4 Caixas por Dia', '1 Caixa por Dia', 'Redução de 3 Caixas'], \n",
        "        'Custo Mensal (R$)': [custo_mensal_4, custo_mensal_1, 0], \n",
        "        'Custo Anual (R$)': [custo_anual_4, custo_anual_1, 0],\n",
        "        'Redução de Custo Mensal (R$)': [0, 0, reducao_mensal],\n",
        "        'Redução de Custo Anual (R$)': [0, 0, reducao_anual]}\n",
        "\n",
        "# Cria o DataFrame a partir do dicionário\n",
        "df = pd.DataFrame(data)\n",
        "\n",
        "# Formata a tabela\n",
        "df.style.format({'Custo Mensal (R$)': 'R${:,.2f}', \n",
        "                 'Custo Anual (R$)': 'R${:,.2f}',\n",
        "                 'Redução de Custo Mensal (R$)': 'R${:,.2f}',\n",
        "                 'Redução de Custo Anual (R$)': 'R${:,.2f}'})\n",
        "\n",
        "# Mostra a tabela\n",
        "print(df)\n",
        "\n",
        "# Cria o gráfico de barras\n",
        "df.plot(x='Situação', y=['Custo Mensal (R$)', 'Custo Anual (R$)', 'Redução de Custo Mensal (R$)', 'Redução de Custo Anual (R$)'], kind='bar')\n",
        "\n",
        "# Mostra o gráfico\n",
        "plt.show()\n"
      ],
      "metadata": {
        "colab": {
          "base_uri": "https://localhost:8080/",
          "height": 542
        },
        "id": "S-8BejOicTGE",
        "outputId": "614db31a-2550-4a4e-a398-27fcc029c094"
      },
      "execution_count": 39,
      "outputs": [
        {
          "output_type": "stream",
          "name": "stdout",
          "text": [
            "              Situação  Custo Mensal (R$)  Custo Anual (R$)  \\\n",
            "0     4 Caixas por Dia             4800.0           57600.0   \n",
            "1      1 Caixa por Dia             1200.0           14400.0   \n",
            "2  Redução de 3 Caixas                0.0               0.0   \n",
            "\n",
            "   Redução de Custo Mensal (R$)  Redução de Custo Anual (R$)  \n",
            "0                           0.0                          0.0  \n",
            "1                           0.0                          0.0  \n",
            "2                        3600.0                      43200.0  \n"
          ]
        },
        {
          "output_type": "display_data",
          "data": {
            "text/plain": [
              "<Figure size 432x288 with 1 Axes>"
            ],
            "image/png": "[encoded data removed]"
          },
          "metadata": {
            "needs_background": "light"
          }
        }
      ]
    },
    {
      "cell_type": "code",
      "source": [
        "import pandas as pd\n",
        "import matplotlib.pyplot as plt\n",
        "\n",
        "# Calcula o custo mensal e anual usando 4 caixas por dia\n",
        "custo_mensal_4 = 4 * 20 * 3000 / 50\n",
        "custo_anual_4 = custo_mensal_4 * 12\n",
        "\n",
        "# Calcula o custo mensal e anual usando 1 caixa por dia\n",
        "custo_mensal_1 = 1 * 20 * 3000 / 50\n",
        "custo_anual_1 = custo_mensal_1 * 12\n",
        "\n",
        "# Cria um dicionário com os dados da tabela\n",
        "data = {'Situação': ['4 Caixas por Dia', '1 Caixa por Dia'], \n",
        "        'Custo Mensal (R$)': [custo_mensal_4, custo_mensal_1], \n",
        "        'Custo Anual (R$)': [custo_anual_4, custo_anual_1]}\n",
        "\n",
        "# Cria o DataFrame a partir do dicionário\n",
        "df = pd.DataFrame(data)\n",
        "\n",
        "# Formata a tabela\n",
        "df.style.format({'Custo Mensal (R$)': 'R${:,.2f}', \n",
        "                 'Custo Anual (R$)': 'R${:,.2f}'})\n",
        "\n",
        "# Mostra a tabela\n",
        "print(df)\n",
        "\n",
        "# Cria o gráfico de barras\n",
        "df.plot(x='Situação', y=['Custo Mensal (R$)', 'Custo Anual (R$)'], kind='bar')\n",
        "\n",
        "# Mostra o gráfico\n",
        "plt.show()\n"
      ],
      "metadata": {
        "colab": {
          "base_uri": "https://localhost:8080/",
          "height": 408
        },
        "id": "mlx_26bpcx0T",
        "outputId": "dca56b51-cef4-4b5c-c91c-74f3fc6e624b"
      },
      "execution_count": 40,
      "outputs": [
        {
          "output_type": "stream",
          "name": "stdout",
          "text": [
            "           Situação  Custo Mensal (R$)  Custo Anual (R$)\n",
            "0  4 Caixas por Dia             4800.0           57600.0\n",
            "1   1 Caixa por Dia             1200.0           14400.0\n"
          ]
        },
        {
          "output_type": "display_data",
          "data": {
            "text/plain": [
              "<Figure size 432x288 with 1 Axes>"
            ],
            "image/png": "[encoded data removed]"
          },
          "metadata": {
            "needs_background": "light"
          }
        }
      ]
    },
    {
      "cell_type": "code",
      "source": [
        "import pandas as pd\n",
        "import matplotlib.pyplot as plt\n",
        "\n",
        "# Calcula o custo mensal e anual usando 4 caixas por dia\n",
        "custo_mensal_4 = 4 * 20 * 3000 / 50\n",
        "custo_anual_4 = custo_mensal_4 * 12\n",
        "\n",
        "# Calcula o custo mensal e anual usando 1 caixa por dia\n",
        "custo_mensal_1 = 1 * 20 * 3000 / 50\n",
        "custo_anual_1 = custo_mensal_1 * 12\n",
        "\n",
        "# Calcula a redução de custo mensal e anual\n",
        "reducao_mensal = custo_mensal_4 - custo_mensal_1\n",
        "reducao_anual = custo_anual_4 - custo_anual_1\n",
        "\n",
        "# Cria um dicionário com os dados da tabela\n",
        "data = {'Situação': ['4 Caixas por Dia', '1 Caixa por Dia', 'Redução de Custo'], \n",
        "        'Custo Mensal (R$)': [custo_mensal_4, custo_mensal_1, reducao_mensal], \n",
        "        'Custo Anual (R$)': [custo_anual_4, custo_anual_1, reducao_anual]}\n",
        "\n",
        "# Cria o DataFrame a partir do dicionário\n",
        "df = pd.DataFrame(data)\n",
        "\n",
        "# Formata a tabela\n",
        "df.style.format({'Custo Mensal (R$)': 'R${:,.2f}', \n",
        "                 'Custo Anual (R$)': 'R${:,.2f}'})\n",
        "\n",
        "# Mostra a tabela\n",
        "print(df)\n",
        "\n",
        "# Cria o gráfico de barras\n",
        "df.plot(x='Situação', y=['Custo Mensal (R$)', 'Custo Anual (R$)'], kind='bar')\n",
        "\n",
        "# Mostra o gráfico\n",
        "plt.show()\n"
      ],
      "metadata": {
        "colab": {
          "base_uri": "https://localhost:8080/",
          "height": 435
        },
        "id": "S0N0i-73dQjo",
        "outputId": "e5b46a0b-b331-4ecb-9ebb-47c9e9ed033a"
      },
      "execution_count": 41,
      "outputs": [
        {
          "output_type": "stream",
          "name": "stdout",
          "text": [
            "           Situação  Custo Mensal (R$)  Custo Anual (R$)\n",
            "0  4 Caixas por Dia             4800.0           57600.0\n",
            "1   1 Caixa por Dia             1200.0           14400.0\n",
            "2  Redução de Custo             3600.0           43200.0\n"
          ]
        },
        {
          "output_type": "display_data",
          "data": {
            "text/plain": [
              "<Figure size 432x288 with 1 Axes>"
            ],
            "image/png": "[encoded data removed]"
          },
          "metadata": {
            "needs_background": "light"
          }
        }
      ]
    },
    {
      "cell_type": "code",
      "source": [
        "import pandas as pd\n",
        "import matplotlib.pyplot as plt\n",
        "\n",
        "# Calcula o custo mensal e anual usando 5 caixas por semana (considerando a semana como tendo 5 dias úteis)\n",
        "custo_mensal_5 = 5 * 5 * 3000 / 50\n",
        "custo_anual_5 = custo_mensal_5 * 12\n",
        "\n",
        "# Calcula o custo mensal e anual usando 1 caixa por semana (considerando a semana como tendo 5 dias úteis)\n",
        "custo_mensal_1 = 1 * 5 * 3000 / 50\n",
        "custo_anual_1 = custo_mensal_1 * 12\n",
        "\n",
        "# Calcula a redução de custo mensal e anual\n",
        "reducao_mensal = custo_mensal_5 - custo_mensal_1\n",
        "reducao_anual = custo_anual_5 - custo_anual_1\n",
        "\n",
        "# Cria um dicionário com os dados da tabela\n",
        "data = {'Situação': ['5 Caixas por Semana', '1 Caixa por Semana', 'Redução de Custo'], \n",
        "        'Custo Mensal (R$)': [custo_mensal_5, custo_mensal_1, reducao_mensal], \n",
        "        'Custo Anual (R$)': [custo_anual_5, custo_anual_1, reducao_anual]}\n",
        "\n",
        "# Cria o DataFrame a partir do dicionário\n",
        "df = pd.DataFrame(data)\n",
        "\n",
        "# Formata a tabela\n",
        "df.style.format({'Custo Mensal (R$)': 'R${:,.2f}', \n",
        "                 'Custo Anual (R$)': 'R${:,.2f}'})\n",
        "\n",
        "# Mostra a tabela\n",
        "print(df)\n",
        "\n",
        "# Cria o gráfico de barras\n",
        "df.plot(x='Situação', y=['Custo Mensal (R$)', 'Custo Anual (R$)'], kind='bar', legend=True)\n",
        "\n",
        "# Adiciona as legendas ao gráfico\n",
        "plt.ylabel('Custo (R$)')\n",
        "\n",
        "# Mostra o gráfico\n",
        "plt.show()\n"
      ],
      "metadata": {
        "colab": {
          "base_uri": "https://localhost:8080/",
          "height": 449
        },
        "id": "3MxiHe-6fSxE",
        "outputId": "04c3abc2-ef8e-4bd5-813d-30f55bf6f71e"
      },
      "execution_count": 42,
      "outputs": [
        {
          "output_type": "stream",
          "name": "stdout",
          "text": [
            "              Situação  Custo Mensal (R$)  Custo Anual (R$)\n",
            "0  5 Caixas por Semana             1500.0           18000.0\n",
            "1   1 Caixa por Semana              300.0            3600.0\n",
            "2     Redução de Custo             1200.0           14400.0\n"
          ]
        },
        {
          "output_type": "display_data",
          "data": {
            "text/plain": [
              "<Figure size 432x288 with 1 Axes>"
            ],
            "image/png": "[encoded data removed]"
          },
          "metadata": {
            "needs_background": "light"
          }
        }
      ]
    },
    {
      "cell_type": "code",
      "source": [
        "!pip install python-docx"
      ],
      "metadata": {
        "colab": {
          "base_uri": "https://localhost:8080/"
        },
        "id": "IGqK-SJh3TxS",
        "outputId": "cb0b006f-525f-4f77-a7c7-470825723454"
      },
      "execution_count": 44,
      "outputs": [
        {
          "output_type": "stream",
          "name": "stdout",
          "text": [
            "Looking in indexes: https://pypi.org/simple, https://us-python.pkg.dev/colab-wheels/public/simple/\n",
            "Collecting python-docx\n",
            "  Downloading python-docx-0.8.11.tar.gz (5.6 MB)\n",
            "\u001b[K     |████████████████████████████████| 5.6 MB 5.2 MB/s \n",
            "\u001b[?25hRequirement already satisfied: lxml>=2.3.2 in /usr/local/lib/python3.8/dist-packages (from python-docx) (4.9.2)\n",
            "Building wheels for collected packages: python-docx\n",
            "  Building wheel for python-docx (setup.py) ... \u001b[?25l\u001b[?25hdone\n",
            "  Created wheel for python-docx: filename=python_docx-0.8.11-py3-none-any.whl size=184505 sha256=501c79fddcf25127d19cbc1e8f4a7b88261f9232e24bee4972a3ba2a40e72fd1\n",
            "  Stored in directory: /root/.cache/pip/wheels/32/b8/b2/c4c2b95765e615fe139b0b17b5ea7c0e1b6519b0a9ec8fb34d\n",
            "Successfully built python-docx\n",
            "Installing collected packages: python-docx\n",
            "Successfully installed python-docx-0.8.11\n"
          ]
        }
      ]
    },
    {
      "cell_type": "code",
      "source": [
        "from docx import Document\n",
        "from docx.shared import Inches\n",
        "\n",
        "document = Document()\n",
        "\n",
        "# Adiciona a tabela ao documento\n",
        "table = document.add_table(df.shape[0]+1, df.shape[1])\n",
        "\n",
        "# Adiciona os títulos das colunas\n",
        "table.rows[0].cells[0].text = 'Situação'\n",
        "table.rows[0].cells[1].text = 'Custo Mensal (R$)'\n",
        "table.rows[0].cells[2].text = 'Custo Anual (R$)'\n",
        "\n",
        "# Adiciona os dados da tabela\n",
        "for i in range(df.shape[0]):\n",
        "    table.rows[i+1].cells[0].text = df.iloc[i, 0]\n",
        "    table.rows[i+1].cells[1].text = 'R${:,.2f}'.format(df.iloc[i, 1])\n",
        "    table.rows[i+1].cells[2].text = 'R${:,.2f}'.format(df.iloc[i, 2])\n",
        "\n",
        "# Salva a tabela no formato Word\n",
        "document.save('tabela.docx')\n",
        "\n",
        "# Salva o gráfico em um arquivo PNG\n",
        "plt.savefig('grafico.svg')\n",
        "\n",
        "# Adiciona o gráfico ao documento\n",
        "document.add_picture('grafico.png', width=Inches(5.0))\n",
        "\n",
        "# Salva o documento com o gráfico\n",
        "document.save('relatorio.docx')\n",
        "\n",
        "# mostrar o gráfico\n",
        "plt.show()"
      ],
      "metadata": {
        "colab": {
          "base_uri": "https://localhost:8080/",
          "height": 35
        },
        "id": "5VxGReiC28IA",
        "outputId": "9613969a-216c-4d12-c422-7946ff026e4b"
      },
      "execution_count": 48,
      "outputs": [
        {
          "output_type": "display_data",
          "data": {
            "text/plain": [
              "<Figure size 432x288 with 0 Axes>"
            ]
          },
          "metadata": {}
        }
      ]
    }
  ]
}
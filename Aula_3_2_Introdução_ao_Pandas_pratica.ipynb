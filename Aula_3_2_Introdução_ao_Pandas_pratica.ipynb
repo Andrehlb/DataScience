{
  "nbformat": 4,
  "nbformat_minor": 0,
  "metadata": {
    "colab": {
      "provenance": [],
      "authorship_tag": "ABX9TyOA9fh5jdzcOHRBmNrfkaUc",
      "include_colab_link": true
    },
    "kernelspec": {
      "name": "python3",
      "display_name": "Python 3"
    },
    "language_info": {
      "name": "python"
    }
  },
  "cells": [
    {
      "cell_type": "markdown",
      "metadata": {
        "id": "view-in-github",
        "colab_type": "text"
      },
      "source": [
        "<a href=\"https://colab.research.google.com/github/Andrehlb/DataScience_Embraer/blob/main/Aula_3_2_Introdu%C3%A7%C3%A3o_ao_Pandas_pratica.ipynb\" target=\"_parent\"><img src=\"https://colab.research.google.com/assets/colab-badge.svg\" alt=\"Open In Colab\"/></a>"
      ]
    },
    {
      "cell_type": "code",
      "execution_count": 1,
      "metadata": {
        "id": "6J7KcfS4tTli"
      },
      "outputs": [],
      "source": [
        "#importação do pandas\n",
        "import pandas as pd"
      ]
    },
    {
      "cell_type": "markdown",
      "source": [
        "<h1> Leitura de Dados </h1>"
      ],
      "metadata": {
        "id": "fE2Ztbgv6J_j"
      }
    },
    {
      "cell_type": "code",
      "source": [
        "df = pd.read_csv('')"
      ],
      "metadata": {
        "id": "dHTtqLIi6Hjq"
      },
      "execution_count": null,
      "outputs": []
    }
  ]
}